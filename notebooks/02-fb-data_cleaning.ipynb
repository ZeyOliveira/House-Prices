{
 "cells": [
  {
   "cell_type": "markdown",
   "id": "9ab1f7a6",
   "metadata": {},
   "source": [
    "# House Prices - Advanced Regression Techniques\n",
    "(Preços de casas - Técnicas Avançadas de Regressão)\n",
    "\n",
    "<img src=\"../relatorios/imagens/housesbanner.png\" width=800>\n",
    "\n",
    "\n",
    "- Vamos utilizar o [dataset disponível no Kaggle](https://www.kaggle.com/competitions/house-prices-advanced-regression-techniques/overview)\n",
    "    - É um dataset de **competição**\n",
    "    - Temos uma base com a **descrição de cada uma das colunas (data_description.txt)**\n",
    "    - Tem também um arquivo 'md' com as colunas traduzidas, e com um pouco mais de informação, que são resultados da análise do **ProfileReport**, chamado \"01_dicionario_de_dados.md\" na pasta 'referencias'."
   ]
  },
  {
   "cell_type": "code",
   "execution_count": 2,
   "id": "0233c934",
   "metadata": {},
   "outputs": [],
   "source": [
    "# Importando as bibliotecas.\n",
    "import pandas as pd\n",
    "import seaborn as sns\n",
    "import matplotlib.pyplot as plt\n",
    "\n",
    "# Fixando a aleatoriedade\n",
    "RANDOM_STATE = 42\n",
    "\n",
    "# Definindo um tema para os gráficos.\n",
    "# sns.set_theme(palette='bright')\n",
    "\n",
    "# Filtrando os Warnings.\n",
    "import warnings\n",
    "warnings.filterwarnings('ignore')"
   ]
  },
  {
   "cell_type": "code",
   "execution_count": 3,
   "id": "3c8d95e7",
   "metadata": {},
   "outputs": [
    {
     "data": {
      "text/html": [
       "<div>\n",
       "<style scoped>\n",
       "    .dataframe tbody tr th:only-of-type {\n",
       "        vertical-align: middle;\n",
       "    }\n",
       "\n",
       "    .dataframe tbody tr th {\n",
       "        vertical-align: top;\n",
       "    }\n",
       "\n",
       "    .dataframe thead th {\n",
       "        text-align: right;\n",
       "    }\n",
       "</style>\n",
       "<table border=\"1\" class=\"dataframe\">\n",
       "  <thead>\n",
       "    <tr style=\"text-align: right;\">\n",
       "      <th></th>\n",
       "      <th>Id</th>\n",
       "      <th>MSSubClass</th>\n",
       "      <th>MSZoning</th>\n",
       "      <th>LotFrontage</th>\n",
       "      <th>LotArea</th>\n",
       "      <th>Street</th>\n",
       "      <th>Alley</th>\n",
       "      <th>LotShape</th>\n",
       "      <th>LandContour</th>\n",
       "      <th>Utilities</th>\n",
       "      <th>...</th>\n",
       "      <th>PoolArea</th>\n",
       "      <th>PoolQC</th>\n",
       "      <th>Fence</th>\n",
       "      <th>MiscFeature</th>\n",
       "      <th>MiscVal</th>\n",
       "      <th>MoSold</th>\n",
       "      <th>YrSold</th>\n",
       "      <th>SaleType</th>\n",
       "      <th>SaleCondition</th>\n",
       "      <th>SalePrice</th>\n",
       "    </tr>\n",
       "  </thead>\n",
       "  <tbody>\n",
       "    <tr>\n",
       "      <th>0</th>\n",
       "      <td>1</td>\n",
       "      <td>60</td>\n",
       "      <td>RL</td>\n",
       "      <td>65.0</td>\n",
       "      <td>8450</td>\n",
       "      <td>Pave</td>\n",
       "      <td>NaN</td>\n",
       "      <td>Reg</td>\n",
       "      <td>Lvl</td>\n",
       "      <td>AllPub</td>\n",
       "      <td>...</td>\n",
       "      <td>0</td>\n",
       "      <td>NaN</td>\n",
       "      <td>NaN</td>\n",
       "      <td>NaN</td>\n",
       "      <td>0</td>\n",
       "      <td>2</td>\n",
       "      <td>2008</td>\n",
       "      <td>WD</td>\n",
       "      <td>Normal</td>\n",
       "      <td>208500</td>\n",
       "    </tr>\n",
       "    <tr>\n",
       "      <th>1</th>\n",
       "      <td>2</td>\n",
       "      <td>20</td>\n",
       "      <td>RL</td>\n",
       "      <td>80.0</td>\n",
       "      <td>9600</td>\n",
       "      <td>Pave</td>\n",
       "      <td>NaN</td>\n",
       "      <td>Reg</td>\n",
       "      <td>Lvl</td>\n",
       "      <td>AllPub</td>\n",
       "      <td>...</td>\n",
       "      <td>0</td>\n",
       "      <td>NaN</td>\n",
       "      <td>NaN</td>\n",
       "      <td>NaN</td>\n",
       "      <td>0</td>\n",
       "      <td>5</td>\n",
       "      <td>2007</td>\n",
       "      <td>WD</td>\n",
       "      <td>Normal</td>\n",
       "      <td>181500</td>\n",
       "    </tr>\n",
       "    <tr>\n",
       "      <th>2</th>\n",
       "      <td>3</td>\n",
       "      <td>60</td>\n",
       "      <td>RL</td>\n",
       "      <td>68.0</td>\n",
       "      <td>11250</td>\n",
       "      <td>Pave</td>\n",
       "      <td>NaN</td>\n",
       "      <td>IR1</td>\n",
       "      <td>Lvl</td>\n",
       "      <td>AllPub</td>\n",
       "      <td>...</td>\n",
       "      <td>0</td>\n",
       "      <td>NaN</td>\n",
       "      <td>NaN</td>\n",
       "      <td>NaN</td>\n",
       "      <td>0</td>\n",
       "      <td>9</td>\n",
       "      <td>2008</td>\n",
       "      <td>WD</td>\n",
       "      <td>Normal</td>\n",
       "      <td>223500</td>\n",
       "    </tr>\n",
       "    <tr>\n",
       "      <th>3</th>\n",
       "      <td>4</td>\n",
       "      <td>70</td>\n",
       "      <td>RL</td>\n",
       "      <td>60.0</td>\n",
       "      <td>9550</td>\n",
       "      <td>Pave</td>\n",
       "      <td>NaN</td>\n",
       "      <td>IR1</td>\n",
       "      <td>Lvl</td>\n",
       "      <td>AllPub</td>\n",
       "      <td>...</td>\n",
       "      <td>0</td>\n",
       "      <td>NaN</td>\n",
       "      <td>NaN</td>\n",
       "      <td>NaN</td>\n",
       "      <td>0</td>\n",
       "      <td>2</td>\n",
       "      <td>2006</td>\n",
       "      <td>WD</td>\n",
       "      <td>Abnorml</td>\n",
       "      <td>140000</td>\n",
       "    </tr>\n",
       "    <tr>\n",
       "      <th>4</th>\n",
       "      <td>5</td>\n",
       "      <td>60</td>\n",
       "      <td>RL</td>\n",
       "      <td>84.0</td>\n",
       "      <td>14260</td>\n",
       "      <td>Pave</td>\n",
       "      <td>NaN</td>\n",
       "      <td>IR1</td>\n",
       "      <td>Lvl</td>\n",
       "      <td>AllPub</td>\n",
       "      <td>...</td>\n",
       "      <td>0</td>\n",
       "      <td>NaN</td>\n",
       "      <td>NaN</td>\n",
       "      <td>NaN</td>\n",
       "      <td>0</td>\n",
       "      <td>12</td>\n",
       "      <td>2008</td>\n",
       "      <td>WD</td>\n",
       "      <td>Normal</td>\n",
       "      <td>250000</td>\n",
       "    </tr>\n",
       "  </tbody>\n",
       "</table>\n",
       "<p>5 rows × 81 columns</p>\n",
       "</div>"
      ],
      "text/plain": [
       "   Id  MSSubClass MSZoning  LotFrontage  LotArea Street Alley LotShape  \\\n",
       "0   1          60       RL         65.0     8450   Pave   NaN      Reg   \n",
       "1   2          20       RL         80.0     9600   Pave   NaN      Reg   \n",
       "2   3          60       RL         68.0    11250   Pave   NaN      IR1   \n",
       "3   4          70       RL         60.0     9550   Pave   NaN      IR1   \n",
       "4   5          60       RL         84.0    14260   Pave   NaN      IR1   \n",
       "\n",
       "  LandContour Utilities  ... PoolArea PoolQC Fence MiscFeature MiscVal MoSold  \\\n",
       "0         Lvl    AllPub  ...        0    NaN   NaN         NaN       0      2   \n",
       "1         Lvl    AllPub  ...        0    NaN   NaN         NaN       0      5   \n",
       "2         Lvl    AllPub  ...        0    NaN   NaN         NaN       0      9   \n",
       "3         Lvl    AllPub  ...        0    NaN   NaN         NaN       0      2   \n",
       "4         Lvl    AllPub  ...        0    NaN   NaN         NaN       0     12   \n",
       "\n",
       "  YrSold  SaleType  SaleCondition  SalePrice  \n",
       "0   2008        WD         Normal     208500  \n",
       "1   2007        WD         Normal     181500  \n",
       "2   2008        WD         Normal     223500  \n",
       "3   2006        WD        Abnorml     140000  \n",
       "4   2008        WD         Normal     250000  \n",
       "\n",
       "[5 rows x 81 columns]"
      ]
     },
     "execution_count": 3,
     "metadata": {},
     "output_type": "execute_result"
    }
   ],
   "source": [
    "# Importando os datasets e visualizando\n",
    "\n",
    "df_treino = pd.read_csv(\"../dados/train.csv\")\n",
    "df_teste = pd.read_csv(\"../dados/test.csv\")\n",
    "\n",
    "df_treino.head()"
   ]
  },
  {
   "cell_type": "code",
   "execution_count": 4,
   "id": "708f271d-0964-4e03-95b1-84fc029040ea",
   "metadata": {},
   "outputs": [
    {
     "name": "stdout",
     "output_type": "stream",
     "text": [
      "<class 'pandas.core.frame.DataFrame'>\n",
      "RangeIndex: 1460 entries, 0 to 1459\n",
      "Data columns (total 81 columns):\n",
      " #   Column         Non-Null Count  Dtype  \n",
      "---  ------         --------------  -----  \n",
      " 0   Id             1460 non-null   int64  \n",
      " 1   MSSubClass     1460 non-null   int64  \n",
      " 2   MSZoning       1460 non-null   object \n",
      " 3   LotFrontage    1201 non-null   float64\n",
      " 4   LotArea        1460 non-null   int64  \n",
      " 5   Street         1460 non-null   object \n",
      " 6   Alley          91 non-null     object \n",
      " 7   LotShape       1460 non-null   object \n",
      " 8   LandContour    1460 non-null   object \n",
      " 9   Utilities      1460 non-null   object \n",
      " 10  LotConfig      1460 non-null   object \n",
      " 11  LandSlope      1460 non-null   object \n",
      " 12  Neighborhood   1460 non-null   object \n",
      " 13  Condition1     1460 non-null   object \n",
      " 14  Condition2     1460 non-null   object \n",
      " 15  BldgType       1460 non-null   object \n",
      " 16  HouseStyle     1460 non-null   object \n",
      " 17  OverallQual    1460 non-null   int64  \n",
      " 18  OverallCond    1460 non-null   int64  \n",
      " 19  YearBuilt      1460 non-null   int64  \n",
      " 20  YearRemodAdd   1460 non-null   int64  \n",
      " 21  RoofStyle      1460 non-null   object \n",
      " 22  RoofMatl       1460 non-null   object \n",
      " 23  Exterior1st    1460 non-null   object \n",
      " 24  Exterior2nd    1460 non-null   object \n",
      " 25  MasVnrType     588 non-null    object \n",
      " 26  MasVnrArea     1452 non-null   float64\n",
      " 27  ExterQual      1460 non-null   object \n",
      " 28  ExterCond      1460 non-null   object \n",
      " 29  Foundation     1460 non-null   object \n",
      " 30  BsmtQual       1423 non-null   object \n",
      " 31  BsmtCond       1423 non-null   object \n",
      " 32  BsmtExposure   1422 non-null   object \n",
      " 33  BsmtFinType1   1423 non-null   object \n",
      " 34  BsmtFinSF1     1460 non-null   int64  \n",
      " 35  BsmtFinType2   1422 non-null   object \n",
      " 36  BsmtFinSF2     1460 non-null   int64  \n",
      " 37  BsmtUnfSF      1460 non-null   int64  \n",
      " 38  TotalBsmtSF    1460 non-null   int64  \n",
      " 39  Heating        1460 non-null   object \n",
      " 40  HeatingQC      1460 non-null   object \n",
      " 41  CentralAir     1460 non-null   object \n",
      " 42  Electrical     1459 non-null   object \n",
      " 43  1stFlrSF       1460 non-null   int64  \n",
      " 44  2ndFlrSF       1460 non-null   int64  \n",
      " 45  LowQualFinSF   1460 non-null   int64  \n",
      " 46  GrLivArea      1460 non-null   int64  \n",
      " 47  BsmtFullBath   1460 non-null   int64  \n",
      " 48  BsmtHalfBath   1460 non-null   int64  \n",
      " 49  FullBath       1460 non-null   int64  \n",
      " 50  HalfBath       1460 non-null   int64  \n",
      " 51  BedroomAbvGr   1460 non-null   int64  \n",
      " 52  KitchenAbvGr   1460 non-null   int64  \n",
      " 53  KitchenQual    1460 non-null   object \n",
      " 54  TotRmsAbvGrd   1460 non-null   int64  \n",
      " 55  Functional     1460 non-null   object \n",
      " 56  Fireplaces     1460 non-null   int64  \n",
      " 57  FireplaceQu    770 non-null    object \n",
      " 58  GarageType     1379 non-null   object \n",
      " 59  GarageYrBlt    1379 non-null   float64\n",
      " 60  GarageFinish   1379 non-null   object \n",
      " 61  GarageCars     1460 non-null   int64  \n",
      " 62  GarageArea     1460 non-null   int64  \n",
      " 63  GarageQual     1379 non-null   object \n",
      " 64  GarageCond     1379 non-null   object \n",
      " 65  PavedDrive     1460 non-null   object \n",
      " 66  WoodDeckSF     1460 non-null   int64  \n",
      " 67  OpenPorchSF    1460 non-null   int64  \n",
      " 68  EnclosedPorch  1460 non-null   int64  \n",
      " 69  3SsnPorch      1460 non-null   int64  \n",
      " 70  ScreenPorch    1460 non-null   int64  \n",
      " 71  PoolArea       1460 non-null   int64  \n",
      " 72  PoolQC         7 non-null      object \n",
      " 73  Fence          281 non-null    object \n",
      " 74  MiscFeature    54 non-null     object \n",
      " 75  MiscVal        1460 non-null   int64  \n",
      " 76  MoSold         1460 non-null   int64  \n",
      " 77  YrSold         1460 non-null   int64  \n",
      " 78  SaleType       1460 non-null   object \n",
      " 79  SaleCondition  1460 non-null   object \n",
      " 80  SalePrice      1460 non-null   int64  \n",
      "dtypes: float64(3), int64(35), object(43)\n",
      "memory usage: 924.0+ KB\n"
     ]
    }
   ],
   "source": [
    "# Verificando as informações\n",
    "df_treino.info()"
   ]
  },
  {
   "cell_type": "markdown",
   "id": "2db0cfd3",
   "metadata": {},
   "source": [
    "<a id=\"index\"></a>\n",
    "## Começando a explorar os dados\n",
    "- **Index:**\n",
    "    - [PoolQC, MiscFeature, Alley, Fence](#top4)\n",
    "    - [FireplaceQu](#FireplaceQu)\n",
    "    - [LotFrontage](#LotFrontage)\n",
    "    - [colunas de Garagem](#garagem)\n",
    "    - [colunas de Porão](#porao)\n",
    "    - [MasVnrType, MasVnrArea, Electrical system](#restante)\n",
    "    - [Analisando o restante das colunas de teste](#restante_teste)"
   ]
  },
  {
   "cell_type": "code",
   "execution_count": 6,
   "id": "bda71526",
   "metadata": {},
   "outputs": [
    {
     "data": {
      "text/html": [
       "<div>\n",
       "<style scoped>\n",
       "    .dataframe tbody tr th:only-of-type {\n",
       "        vertical-align: middle;\n",
       "    }\n",
       "\n",
       "    .dataframe tbody tr th {\n",
       "        vertical-align: top;\n",
       "    }\n",
       "\n",
       "    .dataframe thead th {\n",
       "        text-align: right;\n",
       "    }\n",
       "</style>\n",
       "<table border=\"1\" class=\"dataframe\">\n",
       "  <thead>\n",
       "    <tr style=\"text-align: right;\">\n",
       "      <th></th>\n",
       "      <th>Colunas</th>\n",
       "      <th>Percentual_NaN</th>\n",
       "    </tr>\n",
       "  </thead>\n",
       "  <tbody>\n",
       "    <tr>\n",
       "      <th>PoolQC</th>\n",
       "      <td>7</td>\n",
       "      <td>99.520548</td>\n",
       "    </tr>\n",
       "    <tr>\n",
       "      <th>MiscFeature</th>\n",
       "      <td>54</td>\n",
       "      <td>96.301370</td>\n",
       "    </tr>\n",
       "    <tr>\n",
       "      <th>Alley</th>\n",
       "      <td>91</td>\n",
       "      <td>93.767123</td>\n",
       "    </tr>\n",
       "    <tr>\n",
       "      <th>Fence</th>\n",
       "      <td>281</td>\n",
       "      <td>80.753425</td>\n",
       "    </tr>\n",
       "    <tr>\n",
       "      <th>MasVnrType</th>\n",
       "      <td>588</td>\n",
       "      <td>59.726027</td>\n",
       "    </tr>\n",
       "    <tr>\n",
       "      <th>FireplaceQu</th>\n",
       "      <td>770</td>\n",
       "      <td>47.260274</td>\n",
       "    </tr>\n",
       "    <tr>\n",
       "      <th>LotFrontage</th>\n",
       "      <td>1201</td>\n",
       "      <td>17.739726</td>\n",
       "    </tr>\n",
       "    <tr>\n",
       "      <th>GarageType</th>\n",
       "      <td>1379</td>\n",
       "      <td>5.547945</td>\n",
       "    </tr>\n",
       "    <tr>\n",
       "      <th>GarageYrBlt</th>\n",
       "      <td>1379</td>\n",
       "      <td>5.547945</td>\n",
       "    </tr>\n",
       "    <tr>\n",
       "      <th>GarageFinish</th>\n",
       "      <td>1379</td>\n",
       "      <td>5.547945</td>\n",
       "    </tr>\n",
       "    <tr>\n",
       "      <th>GarageQual</th>\n",
       "      <td>1379</td>\n",
       "      <td>5.547945</td>\n",
       "    </tr>\n",
       "    <tr>\n",
       "      <th>GarageCond</th>\n",
       "      <td>1379</td>\n",
       "      <td>5.547945</td>\n",
       "    </tr>\n",
       "    <tr>\n",
       "      <th>BsmtExposure</th>\n",
       "      <td>1422</td>\n",
       "      <td>2.602740</td>\n",
       "    </tr>\n",
       "    <tr>\n",
       "      <th>BsmtFinType2</th>\n",
       "      <td>1422</td>\n",
       "      <td>2.602740</td>\n",
       "    </tr>\n",
       "    <tr>\n",
       "      <th>BsmtQual</th>\n",
       "      <td>1423</td>\n",
       "      <td>2.534247</td>\n",
       "    </tr>\n",
       "    <tr>\n",
       "      <th>BsmtCond</th>\n",
       "      <td>1423</td>\n",
       "      <td>2.534247</td>\n",
       "    </tr>\n",
       "    <tr>\n",
       "      <th>BsmtFinType1</th>\n",
       "      <td>1423</td>\n",
       "      <td>2.534247</td>\n",
       "    </tr>\n",
       "    <tr>\n",
       "      <th>MasVnrArea</th>\n",
       "      <td>1452</td>\n",
       "      <td>0.547945</td>\n",
       "    </tr>\n",
       "    <tr>\n",
       "      <th>Electrical</th>\n",
       "      <td>1459</td>\n",
       "      <td>0.068493</td>\n",
       "    </tr>\n",
       "  </tbody>\n",
       "</table>\n",
       "</div>"
      ],
      "text/plain": [
       "              Colunas  Percentual_NaN\n",
       "PoolQC              7       99.520548\n",
       "MiscFeature        54       96.301370\n",
       "Alley              91       93.767123\n",
       "Fence             281       80.753425\n",
       "MasVnrType        588       59.726027\n",
       "FireplaceQu       770       47.260274\n",
       "LotFrontage      1201       17.739726\n",
       "GarageType       1379        5.547945\n",
       "GarageYrBlt      1379        5.547945\n",
       "GarageFinish     1379        5.547945\n",
       "GarageQual       1379        5.547945\n",
       "GarageCond       1379        5.547945\n",
       "BsmtExposure     1422        2.602740\n",
       "BsmtFinType2     1422        2.602740\n",
       "BsmtQual         1423        2.534247\n",
       "BsmtCond         1423        2.534247\n",
       "BsmtFinType1     1423        2.534247\n",
       "MasVnrArea       1452        0.547945\n",
       "Electrical       1459        0.068493"
      ]
     },
     "execution_count": 6,
     "metadata": {},
     "output_type": "execute_result"
    }
   ],
   "source": [
    "# Calculando % a quantidade de valores vazios\n",
    "df_valores_faltantes = pd.DataFrame(\n",
    "    {\"Colunas\": df_treino.count().values, \n",
    "    \"Percentual_NaN\": (df_treino.isnull().sum().values / len(df_treino)) * 100},\n",
    "    index= df_treino.count().index\n",
    ")\n",
    "\n",
    "df_valores_faltantes[df_valores_faltantes['Percentual_NaN'] > 0].sort_values(by=\"Percentual_NaN\", ascending=False)"
   ]
  },
  {
   "cell_type": "markdown",
   "id": "3ce76c6c",
   "metadata": {},
   "source": [
    "<a id='4top'></a>\n",
    "- **As 4 primeiras colunas tem mais de 80% dos valores vazios na base de treino**\n",
    "    - Ao invés de eliminar essas colunas, vamos entender cada um dos dados:\n",
    "        - **PoolQC**: **Qualidade** da piscina\n",
    "            - NA: No Pool(sem piscina)\n",
    "        - **MiscFeature**: Qualquer recurso não considerado nas outras categorias\n",
    "            - NA: None\n",
    "        - **Alley**: Tipo de beco / ruela para acesso a propriedade\n",
    "            - NA: No alley access\n",
    "        - **Fence**: **Qualidade** da cerca\n",
    "            - NA: No Fence\n",
    "\n",
    "\n",
    "- Nesse caso **o NA não é ausência de informação, <font color='red'>ele é uma informação</font>**\n",
    "\n",
    "\n",
    "- Podemos entender melhor os dados nessas colunas e principalmente sua **relação com o preço de venda**"
   ]
  },
  {
   "cell_type": "code",
   "execution_count": 8,
   "id": "2dd91a03",
   "metadata": {},
   "outputs": [],
   "source": [
    "# Podemos substituir os valores vazios na primeira coluna por -1\n",
    "df_treino[['PoolQC', 'MiscFeature', 'Alley', 'Fence']] = df_treino[['PoolQC', 'MiscFeature', 'Alley', 'Fence']].fillna(-1)"
   ]
  },
  {
   "cell_type": "code",
   "execution_count": 9,
   "id": "e5f020ce",
   "metadata": {},
   "outputs": [
    {
     "data": {
      "image/png": "[encoded data removed]",
      "text/plain": [
       "<Figure size 1100x700 with 4 Axes>"
      ]
     },
     "metadata": {},
     "output_type": "display_data"
    }
   ],
   "source": [
    "# Visualizando a relação com o preço\n",
    "fig, ax = plt.subplots(ncols=2,nrows=2, figsize=(11, 7), tight_layout=True)\n",
    "\n",
    "sns.boxplot(data=df_treino, x='PoolQC', y='SalePrice', ax=ax[0,0])\n",
    "ax[0,0].set_title('SalePrice x PoolQC')\n",
    "sns.boxplot(data=df_treino, x='MiscFeature', y='SalePrice', ax=ax[0,1])\n",
    "ax[0,1].set_title('SalePrice x MiscFeature')\n",
    "sns.boxplot(data=df_treino, x='Alley', y='SalePrice', ax=ax[1,0])\n",
    "ax[1,0].set_title('SalePrice x Alley')\n",
    "sns.boxplot(data=df_treino, x='Fence', y='SalePrice', ax=ax[1,1])\n",
    "ax[1,1].set_title('SalePrice x Fence')\n",
    "plt.show()"
   ]
  },
  {
   "cell_type": "markdown",
   "id": "14df8566",
   "metadata": {},
   "source": [
    "- **Vamos começar a já fazer os mesmos tratamentos para a <font color='blue'>base de teste</font>** \n",
    "    - (depois vamos automatizar esse processo, mas por enquanto vamos fazer o passo a passo de cada etapa)"
   ]
  },
  {
   "cell_type": "code",
   "execution_count": 11,
   "id": "5d4038d7",
   "metadata": {},
   "outputs": [
    {
     "data": {
      "text/plain": [
       "(1460, 81)"
      ]
     },
     "execution_count": 11,
     "metadata": {},
     "output_type": "execute_result"
    }
   ],
   "source": [
    "# Verificando o shape da base de treino\n",
    "df_treino.shape"
   ]
  },
  {
   "cell_type": "code",
   "execution_count": 12,
   "id": "d84ff741",
   "metadata": {},
   "outputs": [],
   "source": [
    "# Ajustando também para a base de teste\n",
    "df_teste[['PoolQC', 'MiscFeature', 'Alley', 'Fence']] = df_teste[['PoolQC', 'MiscFeature', 'Alley', 'Fence']].fillna(-1)"
   ]
  },
  {
   "cell_type": "code",
   "execution_count": 13,
   "id": "936dd4eb",
   "metadata": {},
   "outputs": [
    {
     "data": {
      "text/plain": [
       "(1459, 80)"
      ]
     },
     "execution_count": 13,
     "metadata": {},
     "output_type": "execute_result"
    }
   ],
   "source": [
    "# Verificando o shape da base de teste\n",
    "df_teste.shape"
   ]
  },
  {
   "cell_type": "markdown",
   "id": "5fef14bd",
   "metadata": {},
   "source": [
    "<p style='text-align: right;'><a href=\"#index\">Voltar</a></p>"
   ]
  },
  {
   "cell_type": "markdown",
   "id": "3ebd9ba9",
   "metadata": {},
   "source": [
    "<a id=FireplaceQu></a>\n",
    "- **Agora analisando a coluna <font color='blue'>FireplaceQu</font>**\n",
    "- Temos 2 colunas relacionadas a lareiras:\n",
    "    - **Fireplaces**: Number of fireplaces\n",
    "    - **FireplaceQu**: Fireplace quality"
   ]
  },
  {
   "cell_type": "code",
   "execution_count": 16,
   "id": "8ba4d421",
   "metadata": {},
   "outputs": [
    {
     "data": {
      "text/plain": [
       "Fireplaces  FireplaceQu\n",
       "0           NaN            690\n",
       "1           Gd             324\n",
       "            TA             259\n",
       "2           Gd              54\n",
       "            TA              53\n",
       "1           Fa              28\n",
       "            Po              20\n",
       "            Ex              19\n",
       "2           Fa               4\n",
       "            Ex               4\n",
       "3           Gd               2\n",
       "            Ex               1\n",
       "            Fa               1\n",
       "            TA               1\n",
       "Name: count, dtype: int64"
      ]
     },
     "execution_count": 16,
     "metadata": {},
     "output_type": "execute_result"
    }
   ],
   "source": [
    "# Visualizando a quantidade de registros em cada rótulo\n",
    "df_treino[['Fireplaces', 'FireplaceQu']].value_counts(dropna=False)"
   ]
  },
  {
   "cell_type": "markdown",
   "id": "6ae40d37",
   "metadata": {},
   "source": [
    "- Esse NaN também é uma informação, dizendo que **não existe lareira**"
   ]
  },
  {
   "cell_type": "code",
   "execution_count": 18,
   "id": "9ac35831",
   "metadata": {},
   "outputs": [],
   "source": [
    "# Ajustando essa coluna\n",
    "df_treino[['FireplaceQu']] = df_treino[['FireplaceQu']].fillna(-1)"
   ]
  },
  {
   "cell_type": "markdown",
   "id": "4991d40e",
   "metadata": {},
   "source": [
    "- Novamente fazendo o mesmo para a **<font color='blue'>base de teste</font>**"
   ]
  },
  {
   "cell_type": "code",
   "execution_count": 20,
   "id": "11281906",
   "metadata": {},
   "outputs": [
    {
     "data": {
      "text/plain": [
       "Fireplaces  FireplaceQu\n",
       "0           NaN            730\n",
       "1           Gd             303\n",
       "            TA             236\n",
       "2           Gd              58\n",
       "            TA              39\n",
       "1           Fa              35\n",
       "            Po              26\n",
       "            Ex              18\n",
       "2           Fa               6\n",
       "3           TA               3\n",
       "            Gd               3\n",
       "2           Ex               1\n",
       "4           TA               1\n",
       "Name: count, dtype: int64"
      ]
     },
     "execution_count": 20,
     "metadata": {},
     "output_type": "execute_result"
    }
   ],
   "source": [
    "# Visualizando a quantidade de registros em cada rótulo\n",
    "df_teste[['Fireplaces', 'FireplaceQu']].value_counts(dropna=False)"
   ]
  },
  {
   "cell_type": "code",
   "execution_count": 21,
   "id": "73a5b0fd",
   "metadata": {},
   "outputs": [],
   "source": [
    "# Fazendo a transformação para a base de teste\n",
    "df_teste[['FireplaceQu']] = df_teste[['FireplaceQu']].fillna(-1)"
   ]
  },
  {
   "cell_type": "markdown",
   "id": "daadaf44",
   "metadata": {},
   "source": [
    "- **Visualizando novamente as informações de valores vazios**"
   ]
  },
  {
   "cell_type": "code",
   "execution_count": 23,
   "id": "21b8ccaf",
   "metadata": {},
   "outputs": [
    {
     "data": {
      "text/plain": [
       "MasVnrType      59.726027\n",
       "LotFrontage     17.739726\n",
       "GarageType       5.547945\n",
       "GarageCond       5.547945\n",
       "GarageFinish     5.547945\n",
       "GarageYrBlt      5.547945\n",
       "GarageQual       5.547945\n",
       "BsmtExposure     2.602740\n",
       "BsmtFinType2     2.602740\n",
       "BsmtQual         2.534247\n",
       "BsmtCond         2.534247\n",
       "BsmtFinType1     2.534247\n",
       "MasVnrArea       0.547945\n",
       "Electrical       0.068493\n",
       "Id               0.000000\n",
       "dtype: float64"
      ]
     },
     "execution_count": 23,
     "metadata": {},
     "output_type": "execute_result"
    }
   ],
   "source": [
    "# Calculando % a quantidade de valores vazios\n",
    "(df_treino.isnull().sum()/df_treino.shape[0] * 100).sort_values(ascending=False).head(15)"
   ]
  },
  {
   "cell_type": "code",
   "execution_count": 24,
   "id": "d90705f8",
   "metadata": {},
   "outputs": [
    {
     "data": {
      "text/plain": [
       "MasVnrType      872\n",
       "LotFrontage     259\n",
       "GarageType       81\n",
       "GarageCond       81\n",
       "GarageFinish     81\n",
       "GarageYrBlt      81\n",
       "GarageQual       81\n",
       "BsmtExposure     38\n",
       "BsmtFinType2     38\n",
       "BsmtQual         37\n",
       "dtype: int64"
      ]
     },
     "execution_count": 24,
     "metadata": {},
     "output_type": "execute_result"
    }
   ],
   "source": [
    "# Verificando a quantidade de valores\n",
    "df_treino.isnull().sum().sort_values(ascending=False).head(10)"
   ]
  },
  {
   "cell_type": "markdown",
   "id": "8ad09906",
   "metadata": {},
   "source": [
    "<p style='text-align: right;'><a href=\"#index\">Voltar</a></p>"
   ]
  },
  {
   "cell_type": "markdown",
   "id": "e06901b6",
   "metadata": {},
   "source": [
    "<a id=LotFrontage></a>\n",
    "- **<font color='blue'>LotFrontage</font>: Pés lineares (medida de distância) de rua conectados à propriedade**"
   ]
  },
  {
   "cell_type": "code",
   "execution_count": 27,
   "id": "c7d5b036",
   "metadata": {},
   "outputs": [
    {
     "data": {
      "text/plain": [
       "LotConfig\n",
       "Inside     134\n",
       "Corner      62\n",
       "CulDSac     49\n",
       "FR2         14\n",
       "Name: count, dtype: int64"
      ]
     },
     "execution_count": 27,
     "metadata": {},
     "output_type": "execute_result"
    }
   ],
   "source": [
    "# Entendendo os tipos de propriedades que possuem valor nulo\n",
    "df_treino.loc[df_treino['LotFrontage'].isnull(), 'LotConfig'].value_counts()"
   ]
  },
  {
   "cell_type": "code",
   "execution_count": 28,
   "id": "0b5d6a42",
   "metadata": {},
   "outputs": [
    {
     "data": {
      "text/plain": [
       "LotConfig\n",
       "Corner     84.039801\n",
       "CulDSac    59.911111\n",
       "FR2        63.515152\n",
       "FR3        70.750000\n",
       "Inside     67.715686\n",
       "Name: LotFrontage, dtype: float64"
      ]
     },
     "execution_count": 28,
     "metadata": {},
     "output_type": "execute_result"
    }
   ],
   "source": [
    "# Verificando a média por tipo de propriedade\n",
    "df_treino.groupby('LotConfig')['LotFrontage'].mean()"
   ]
  },
  {
   "cell_type": "markdown",
   "id": "83655058",
   "metadata": {},
   "source": [
    "- Nesse caso o valor vazio **parece um erro da base**"
   ]
  },
  {
   "cell_type": "code",
   "execution_count": 30,
   "id": "02a77ec6",
   "metadata": {},
   "outputs": [],
   "source": [
    "# Substituindo os valores vazios pela média em relação ao LotConfig\n",
    "df_treino['LotFrontage'] = df_treino['LotFrontage'].fillna(df_treino.groupby('LotConfig')['LotFrontage'].transform('mean'))"
   ]
  },
  {
   "cell_type": "markdown",
   "id": "2b1f4203",
   "metadata": {},
   "source": [
    "- Para a **<font color='blue'>base de teste</font>**"
   ]
  },
  {
   "cell_type": "code",
   "execution_count": 32,
   "id": "57936cd9",
   "metadata": {},
   "outputs": [],
   "source": [
    "# Fazendo para a base de teste\n",
    "df_teste['LotFrontage'] = df_teste['LotFrontage'].fillna(df_teste.groupby('LotConfig')['LotFrontage'].transform('mean'))"
   ]
  },
  {
   "cell_type": "markdown",
   "id": "791d3a80",
   "metadata": {},
   "source": [
    "<p style='text-align: right;'><a href=\"#index\">Voltar</a></p>"
   ]
  },
  {
   "cell_type": "markdown",
   "id": "8e5ff266",
   "metadata": {},
   "source": [
    "<a id=\"garagem\"></a>\n",
    "- **Avaliando as <font color='blue'>colunas de garagem</font>**\n",
    "    - **GarageType**: Garage location\n",
    "        - **NA: No Garage**\n",
    "    - **GarageYrBlt**: Year garage was built\n",
    "\t- **GarageFinish**: Interior finish of the garage\n",
    "        - **NA: No Garage**\t\t\n",
    "    - **GarageCars**: Size of garage in car capacity\n",
    "\t- **GarageArea**: Size of garage in square feet\n",
    "\t- **GarageQual**: Garage quality\n",
    "        - **NA: No Garage**\t\t\n",
    "\t- **GarageCond**: Garage condition\n",
    "        - **NA: No Garage**\t\t"
   ]
  },
  {
   "cell_type": "code",
   "execution_count": 35,
   "id": "c20403b2",
   "metadata": {},
   "outputs": [
    {
     "data": {
      "text/plain": [
       "Index(['GarageType', 'GarageYrBlt', 'GarageFinish', 'GarageCars', 'GarageArea',\n",
       "       'GarageQual', 'GarageCond'],\n",
       "      dtype='object')"
      ]
     },
     "execution_count": 35,
     "metadata": {},
     "output_type": "execute_result"
    }
   ],
   "source": [
    "# Verificando as colunas que possuem garagem no nome\n",
    "col_garagem = df_treino.columns[df_treino.columns.str.contains('Garage')]\n",
    "col_garagem"
   ]
  },
  {
   "cell_type": "code",
   "execution_count": 36,
   "id": "e3076fa9",
   "metadata": {},
   "outputs": [
    {
     "data": {
      "text/plain": [
       "GarageType  GarageYrBlt  GarageFinish  GarageCars  GarageArea  GarageQual  GarageCond\n",
       "NaN         NaN          NaN           0           0           NaN         NaN           81\n",
       "Name: count, dtype: int64"
      ]
     },
     "execution_count": 36,
     "metadata": {},
     "output_type": "execute_result"
    }
   ],
   "source": [
    "# Filtrando a base\n",
    "df_treino.loc[df_treino['GarageCond'].isnull(), col_garagem].value_counts(dropna=False)"
   ]
  },
  {
   "cell_type": "markdown",
   "id": "78deb42a",
   "metadata": {},
   "source": [
    "- **O NaN em todas essas colunas é que não existe garagem**"
   ]
  },
  {
   "cell_type": "code",
   "execution_count": 38,
   "id": "eea18ff7",
   "metadata": {},
   "outputs": [
    {
     "data": {
      "text/html": [
       "<div>\n",
       "<style scoped>\n",
       "    .dataframe tbody tr th:only-of-type {\n",
       "        vertical-align: middle;\n",
       "    }\n",
       "\n",
       "    .dataframe tbody tr th {\n",
       "        vertical-align: top;\n",
       "    }\n",
       "\n",
       "    .dataframe thead th {\n",
       "        text-align: right;\n",
       "    }\n",
       "</style>\n",
       "<table border=\"1\" class=\"dataframe\">\n",
       "  <thead>\n",
       "    <tr style=\"text-align: right;\">\n",
       "      <th></th>\n",
       "      <th>GarageType</th>\n",
       "      <th>GarageYrBlt</th>\n",
       "      <th>GarageFinish</th>\n",
       "      <th>GarageQual</th>\n",
       "      <th>GarageCond</th>\n",
       "    </tr>\n",
       "  </thead>\n",
       "  <tbody>\n",
       "    <tr>\n",
       "      <th>39</th>\n",
       "      <td>NaN</td>\n",
       "      <td>NaN</td>\n",
       "      <td>NaN</td>\n",
       "      <td>NaN</td>\n",
       "      <td>NaN</td>\n",
       "    </tr>\n",
       "    <tr>\n",
       "      <th>48</th>\n",
       "      <td>NaN</td>\n",
       "      <td>NaN</td>\n",
       "      <td>NaN</td>\n",
       "      <td>NaN</td>\n",
       "      <td>NaN</td>\n",
       "    </tr>\n",
       "    <tr>\n",
       "      <th>78</th>\n",
       "      <td>NaN</td>\n",
       "      <td>NaN</td>\n",
       "      <td>NaN</td>\n",
       "      <td>NaN</td>\n",
       "      <td>NaN</td>\n",
       "    </tr>\n",
       "    <tr>\n",
       "      <th>88</th>\n",
       "      <td>NaN</td>\n",
       "      <td>NaN</td>\n",
       "      <td>NaN</td>\n",
       "      <td>NaN</td>\n",
       "      <td>NaN</td>\n",
       "    </tr>\n",
       "    <tr>\n",
       "      <th>89</th>\n",
       "      <td>NaN</td>\n",
       "      <td>NaN</td>\n",
       "      <td>NaN</td>\n",
       "      <td>NaN</td>\n",
       "      <td>NaN</td>\n",
       "    </tr>\n",
       "  </tbody>\n",
       "</table>\n",
       "</div>"
      ],
      "text/plain": [
       "   GarageType  GarageYrBlt GarageFinish GarageQual GarageCond\n",
       "39        NaN          NaN          NaN        NaN        NaN\n",
       "48        NaN          NaN          NaN        NaN        NaN\n",
       "78        NaN          NaN          NaN        NaN        NaN\n",
       "88        NaN          NaN          NaN        NaN        NaN\n",
       "89        NaN          NaN          NaN        NaN        NaN"
      ]
     },
     "execution_count": 38,
     "metadata": {},
     "output_type": "execute_result"
    }
   ],
   "source": [
    "# Podemos selecionar apenas as colunas vazias\n",
    "df_treino.loc[df_treino['GarageType'].isnull(), col_garagem[[0,1,2,5,6]]].head()"
   ]
  },
  {
   "cell_type": "code",
   "execution_count": 39,
   "id": "3561f167",
   "metadata": {},
   "outputs": [
    {
     "data": {
      "text/plain": [
       "GarageType  GarageYrBlt  GarageFinish  GarageQual  GarageCond\n",
       "NaN         NaN          NaN           NaN         NaN           81\n",
       "Name: count, dtype: int64"
      ]
     },
     "execution_count": 39,
     "metadata": {},
     "output_type": "execute_result"
    }
   ],
   "source": [
    "# Verificando os valores\n",
    "df_treino.loc[df_treino['GarageType'].isnull(), col_garagem[[0,1,2,5,6]]].value_counts(dropna=False)"
   ]
  },
  {
   "cell_type": "code",
   "execution_count": 40,
   "id": "ed7e39bd",
   "metadata": {},
   "outputs": [],
   "source": [
    "# E substituir esses valores por -1\n",
    "df_treino.loc[df_treino['GarageType'].isnull(), col_garagem[[0,1,2,5,6]]] = -1"
   ]
  },
  {
   "cell_type": "code",
   "execution_count": 41,
   "id": "d36e146c",
   "metadata": {},
   "outputs": [
    {
     "data": {
      "text/plain": [
       "GarageType  GarageYrBlt  GarageFinish  GarageCars  GarageArea  GarageQual  GarageCond\n",
       "-1          -1.0         -1            0           0           -1          -1            81\n",
       "Name: count, dtype: int64"
      ]
     },
     "execution_count": 41,
     "metadata": {},
     "output_type": "execute_result"
    }
   ],
   "source": [
    "# Verificando novamente quando a quantidade de carros é igual a 0\n",
    "df_treino.loc[df_treino['GarageCars'] == 0, col_garagem].value_counts(dropna=False)"
   ]
  },
  {
   "cell_type": "code",
   "execution_count": 42,
   "id": "7358f05a",
   "metadata": {},
   "outputs": [
    {
     "data": {
      "text/plain": [
       "MasVnrType      872\n",
       "BsmtExposure     38\n",
       "BsmtFinType2     38\n",
       "BsmtCond         37\n",
       "BsmtFinType1     37\n",
       "BsmtQual         37\n",
       "MasVnrArea        8\n",
       "Electrical        1\n",
       "LandContour       0\n",
       "MSSubClass        0\n",
       "dtype: int64"
      ]
     },
     "execution_count": 42,
     "metadata": {},
     "output_type": "execute_result"
    }
   ],
   "source": [
    "# Resumindo os valores vazios da base de treino\n",
    "df_treino.isnull().sum().sort_values(ascending=False).head(10)"
   ]
  },
  {
   "cell_type": "markdown",
   "id": "d51d543d",
   "metadata": {},
   "source": [
    "- Para a **<font color='blue'>base de teste</font>**"
   ]
  },
  {
   "cell_type": "code",
   "execution_count": 44,
   "id": "3dafd005",
   "metadata": {},
   "outputs": [
    {
     "data": {
      "text/plain": [
       "GarageType  GarageYrBlt  GarageFinish  GarageCars  GarageArea  GarageQual  GarageCond\n",
       "NaN         NaN          NaN           0.0         0.0         NaN         NaN           76\n",
       "Detchd      NaN          NaN           1.0         360.0       NaN         NaN            1\n",
       "                                       NaN         NaN         NaN         NaN            1\n",
       "Name: count, dtype: int64"
      ]
     },
     "execution_count": 44,
     "metadata": {},
     "output_type": "execute_result"
    }
   ],
   "source": [
    "# Verificando os valores\n",
    "df_teste.loc[df_teste['GarageCond'].isnull(), col_garagem].value_counts(dropna=False)"
   ]
  },
  {
   "cell_type": "markdown",
   "id": "f769ad2f",
   "metadata": {},
   "source": [
    "- Tratando a linha onde GarageCars é zero e tudo é vazio"
   ]
  },
  {
   "cell_type": "code",
   "execution_count": 46,
   "id": "10984890",
   "metadata": {},
   "outputs": [
    {
     "data": {
      "text/plain": [
       "GarageType  GarageYrBlt  GarageFinish  GarageQual  GarageCond\n",
       "NaN         NaN          NaN           NaN         NaN           76\n",
       "Name: count, dtype: int64"
      ]
     },
     "execution_count": 46,
     "metadata": {},
     "output_type": "execute_result"
    }
   ],
   "source": [
    "# Analisando a condição de GarageType ser nulo\n",
    "df_teste.loc[df_teste['GarageType'].isnull(), col_garagem[[0,1,2,5,6]]].value_counts(dropna=False)"
   ]
  },
  {
   "cell_type": "code",
   "execution_count": 47,
   "id": "a01ad3db",
   "metadata": {},
   "outputs": [],
   "source": [
    "# E substituir esses valores por -1\n",
    "df_teste.loc[df_teste['GarageType'].isnull(), col_garagem[[0,1,2,5,6]]] = -1"
   ]
  },
  {
   "cell_type": "markdown",
   "id": "d812a967",
   "metadata": {},
   "source": [
    "- Agora vamos entender as colunas com tudo vazio mas GarageType = \"Detchd\""
   ]
  },
  {
   "cell_type": "code",
   "execution_count": 49,
   "id": "669e3be4",
   "metadata": {},
   "outputs": [
    {
     "data": {
      "text/html": [
       "<div>\n",
       "<style scoped>\n",
       "    .dataframe tbody tr th:only-of-type {\n",
       "        vertical-align: middle;\n",
       "    }\n",
       "\n",
       "    .dataframe tbody tr th {\n",
       "        vertical-align: top;\n",
       "    }\n",
       "\n",
       "    .dataframe thead th {\n",
       "        text-align: right;\n",
       "    }\n",
       "</style>\n",
       "<table border=\"1\" class=\"dataframe\">\n",
       "  <thead>\n",
       "    <tr style=\"text-align: right;\">\n",
       "      <th></th>\n",
       "      <th>GarageType</th>\n",
       "      <th>GarageYrBlt</th>\n",
       "      <th>GarageFinish</th>\n",
       "      <th>GarageCars</th>\n",
       "      <th>GarageArea</th>\n",
       "      <th>GarageQual</th>\n",
       "      <th>GarageCond</th>\n",
       "    </tr>\n",
       "  </thead>\n",
       "  <tbody>\n",
       "    <tr>\n",
       "      <th>666</th>\n",
       "      <td>Detchd</td>\n",
       "      <td>NaN</td>\n",
       "      <td>NaN</td>\n",
       "      <td>1.0</td>\n",
       "      <td>360.0</td>\n",
       "      <td>NaN</td>\n",
       "      <td>NaN</td>\n",
       "    </tr>\n",
       "    <tr>\n",
       "      <th>1116</th>\n",
       "      <td>Detchd</td>\n",
       "      <td>NaN</td>\n",
       "      <td>NaN</td>\n",
       "      <td>NaN</td>\n",
       "      <td>NaN</td>\n",
       "      <td>NaN</td>\n",
       "      <td>NaN</td>\n",
       "    </tr>\n",
       "  </tbody>\n",
       "</table>\n",
       "</div>"
      ],
      "text/plain": [
       "     GarageType  GarageYrBlt GarageFinish  GarageCars  GarageArea GarageQual  \\\n",
       "666      Detchd          NaN          NaN         1.0       360.0        NaN   \n",
       "1116     Detchd          NaN          NaN         NaN         NaN        NaN   \n",
       "\n",
       "     GarageCond  \n",
       "666         NaN  \n",
       "1116        NaN  "
      ]
     },
     "execution_count": 49,
     "metadata": {},
     "output_type": "execute_result"
    }
   ],
   "source": [
    "# Entendendo essas colunas\n",
    "df_teste.loc[df_teste['GarageCond'].isnull(), col_garagem]"
   ]
  },
  {
   "cell_type": "markdown",
   "id": "b845ae7d",
   "metadata": {},
   "source": [
    "- Analisando a coluna GarageYrBlt"
   ]
  },
  {
   "cell_type": "code",
   "execution_count": 51,
   "id": "638413f4",
   "metadata": {},
   "outputs": [
    {
     "data": {
      "text/plain": [
       "GarageYrBlt     1.000000\n",
       "YearBuilt       0.615951\n",
       "GarageArea      0.494670\n",
       "GarageCars      0.413711\n",
       "YearRemodAdd    0.321667\n",
       "Name: GarageYrBlt, dtype: float64"
      ]
     },
     "execution_count": 51,
     "metadata": {},
     "output_type": "execute_result"
    }
   ],
   "source": [
    "# Vamos verificar os valores quando GarageType == \"Detchd\"\n",
    "df_teste2 = df_teste.loc[(df_teste.GarageType == 'Detchd') & (df_teste.GarageYrBlt != -1)]\n",
    "df_teste2.corr(numeric_only=True)['GarageYrBlt'].sort_values(ascending=False).head()"
   ]
  },
  {
   "cell_type": "code",
   "execution_count": 52,
   "id": "4b1e7fcb",
   "metadata": {},
   "outputs": [
    {
     "data": {
      "image/png": "[encoded data removed]",
      "text/plain": [
       "<Figure size 640x480 with 1 Axes>"
      ]
     },
     "metadata": {},
     "output_type": "display_data"
    }
   ],
   "source": [
    "# Visualizando essa correlação\n",
    "sns.scatterplot(data=df_teste2, x='GarageYrBlt', y='YearBuilt')\n",
    "plt.show()"
   ]
  },
  {
   "cell_type": "markdown",
   "id": "d3205f50-7e69-401e-b6f4-2f3ef8d60c59",
   "metadata": {},
   "source": [
    "Há um correlação positiva alta entre o **ano de construção da garagem(GarageYrBlt)**, com o **ano de construção da casa(YearBuilt)**. Faz sentido se levarmos em consideração que geralmente a garagem é construída junto com a casa."
   ]
  },
  {
   "cell_type": "code",
   "execution_count": 54,
   "id": "659f8dd2",
   "metadata": {},
   "outputs": [
    {
     "data": {
      "text/plain": [
       "CheckAnos\n",
       "True     1127\n",
       "False     332\n",
       "Name: count, dtype: int64"
      ]
     },
     "execution_count": 54,
     "metadata": {},
     "output_type": "execute_result"
    }
   ],
   "source": [
    "# Verificando a nova coluna\n",
    "df_teste['CheckAnos'] = df_teste['GarageYrBlt'] == df_teste['YearBuilt']\n",
    "df_teste.CheckAnos.value_counts()"
   ]
  },
  {
   "cell_type": "markdown",
   "id": "77209b0a-f45e-4c94-ae91-b8dda408b724",
   "metadata": {},
   "source": [
    "É possível observar que em 1127 casos a Garagem foi contruída no mesmo ano que a Casa, ou seja, maioria.\n",
    "\n",
    "E parte dos valores em que isso não aconteceu, 76 deles são valores vazios(-1), porque não tem garagem.\n",
    "\n",
    "Como pode ser visto na célula abaixo:"
   ]
  },
  {
   "cell_type": "code",
   "execution_count": 56,
   "id": "824a0657-1008-42e8-9698-1dbd0ec6d863",
   "metadata": {},
   "outputs": [
    {
     "data": {
      "text/html": [
       "<div>\n",
       "<style scoped>\n",
       "    .dataframe tbody tr th:only-of-type {\n",
       "        vertical-align: middle;\n",
       "    }\n",
       "\n",
       "    .dataframe tbody tr th {\n",
       "        vertical-align: top;\n",
       "    }\n",
       "\n",
       "    .dataframe thead th {\n",
       "        text-align: right;\n",
       "    }\n",
       "</style>\n",
       "<table border=\"1\" class=\"dataframe\">\n",
       "  <thead>\n",
       "    <tr style=\"text-align: right;\">\n",
       "      <th></th>\n",
       "      <th>Id</th>\n",
       "      <th>MSSubClass</th>\n",
       "      <th>MSZoning</th>\n",
       "      <th>LotFrontage</th>\n",
       "      <th>LotArea</th>\n",
       "      <th>Street</th>\n",
       "      <th>Alley</th>\n",
       "      <th>LotShape</th>\n",
       "      <th>LandContour</th>\n",
       "      <th>Utilities</th>\n",
       "      <th>...</th>\n",
       "      <th>PoolArea</th>\n",
       "      <th>PoolQC</th>\n",
       "      <th>Fence</th>\n",
       "      <th>MiscFeature</th>\n",
       "      <th>MiscVal</th>\n",
       "      <th>MoSold</th>\n",
       "      <th>YrSold</th>\n",
       "      <th>SaleType</th>\n",
       "      <th>SaleCondition</th>\n",
       "      <th>CheckAnos</th>\n",
       "    </tr>\n",
       "  </thead>\n",
       "  <tbody>\n",
       "    <tr>\n",
       "      <th>53</th>\n",
       "      <td>1514</td>\n",
       "      <td>90</td>\n",
       "      <td>RL</td>\n",
       "      <td>98.0</td>\n",
       "      <td>13260</td>\n",
       "      <td>Pave</td>\n",
       "      <td>-1</td>\n",
       "      <td>IR1</td>\n",
       "      <td>Lvl</td>\n",
       "      <td>AllPub</td>\n",
       "      <td>...</td>\n",
       "      <td>0</td>\n",
       "      <td>-1</td>\n",
       "      <td>-1</td>\n",
       "      <td>-1</td>\n",
       "      <td>0</td>\n",
       "      <td>1</td>\n",
       "      <td>2010</td>\n",
       "      <td>Oth</td>\n",
       "      <td>Abnorml</td>\n",
       "      <td>False</td>\n",
       "    </tr>\n",
       "    <tr>\n",
       "      <th>71</th>\n",
       "      <td>1532</td>\n",
       "      <td>30</td>\n",
       "      <td>RM</td>\n",
       "      <td>56.0</td>\n",
       "      <td>4485</td>\n",
       "      <td>Pave</td>\n",
       "      <td>Grvl</td>\n",
       "      <td>Reg</td>\n",
       "      <td>Lvl</td>\n",
       "      <td>AllPub</td>\n",
       "      <td>...</td>\n",
       "      <td>0</td>\n",
       "      <td>-1</td>\n",
       "      <td>MnPrv</td>\n",
       "      <td>-1</td>\n",
       "      <td>0</td>\n",
       "      <td>5</td>\n",
       "      <td>2010</td>\n",
       "      <td>WD</td>\n",
       "      <td>Normal</td>\n",
       "      <td>False</td>\n",
       "    </tr>\n",
       "    <tr>\n",
       "      <th>79</th>\n",
       "      <td>1540</td>\n",
       "      <td>190</td>\n",
       "      <td>RM</td>\n",
       "      <td>100.0</td>\n",
       "      <td>9045</td>\n",
       "      <td>Pave</td>\n",
       "      <td>-1</td>\n",
       "      <td>Reg</td>\n",
       "      <td>Lvl</td>\n",
       "      <td>AllPub</td>\n",
       "      <td>...</td>\n",
       "      <td>0</td>\n",
       "      <td>-1</td>\n",
       "      <td>-1</td>\n",
       "      <td>-1</td>\n",
       "      <td>0</td>\n",
       "      <td>6</td>\n",
       "      <td>2010</td>\n",
       "      <td>WD</td>\n",
       "      <td>Abnorml</td>\n",
       "      <td>False</td>\n",
       "    </tr>\n",
       "    <tr>\n",
       "      <th>92</th>\n",
       "      <td>1553</td>\n",
       "      <td>70</td>\n",
       "      <td>RM</td>\n",
       "      <td>60.0</td>\n",
       "      <td>12900</td>\n",
       "      <td>Pave</td>\n",
       "      <td>Grvl</td>\n",
       "      <td>Reg</td>\n",
       "      <td>Lvl</td>\n",
       "      <td>AllPub</td>\n",
       "      <td>...</td>\n",
       "      <td>0</td>\n",
       "      <td>-1</td>\n",
       "      <td>-1</td>\n",
       "      <td>-1</td>\n",
       "      <td>0</td>\n",
       "      <td>5</td>\n",
       "      <td>2010</td>\n",
       "      <td>WD</td>\n",
       "      <td>Normal</td>\n",
       "      <td>False</td>\n",
       "    </tr>\n",
       "    <tr>\n",
       "      <th>96</th>\n",
       "      <td>1557</td>\n",
       "      <td>190</td>\n",
       "      <td>RL</td>\n",
       "      <td>60.0</td>\n",
       "      <td>9900</td>\n",
       "      <td>Pave</td>\n",
       "      <td>-1</td>\n",
       "      <td>Reg</td>\n",
       "      <td>Lvl</td>\n",
       "      <td>AllPub</td>\n",
       "      <td>...</td>\n",
       "      <td>0</td>\n",
       "      <td>-1</td>\n",
       "      <td>-1</td>\n",
       "      <td>-1</td>\n",
       "      <td>0</td>\n",
       "      <td>2</td>\n",
       "      <td>2010</td>\n",
       "      <td>ConLD</td>\n",
       "      <td>Normal</td>\n",
       "      <td>False</td>\n",
       "    </tr>\n",
       "    <tr>\n",
       "      <th>...</th>\n",
       "      <td>...</td>\n",
       "      <td>...</td>\n",
       "      <td>...</td>\n",
       "      <td>...</td>\n",
       "      <td>...</td>\n",
       "      <td>...</td>\n",
       "      <td>...</td>\n",
       "      <td>...</td>\n",
       "      <td>...</td>\n",
       "      <td>...</td>\n",
       "      <td>...</td>\n",
       "      <td>...</td>\n",
       "      <td>...</td>\n",
       "      <td>...</td>\n",
       "      <td>...</td>\n",
       "      <td>...</td>\n",
       "      <td>...</td>\n",
       "      <td>...</td>\n",
       "      <td>...</td>\n",
       "      <td>...</td>\n",
       "      <td>...</td>\n",
       "    </tr>\n",
       "    <tr>\n",
       "      <th>1433</th>\n",
       "      <td>2894</td>\n",
       "      <td>50</td>\n",
       "      <td>C (all)</td>\n",
       "      <td>60.0</td>\n",
       "      <td>8520</td>\n",
       "      <td>Grvl</td>\n",
       "      <td>-1</td>\n",
       "      <td>Reg</td>\n",
       "      <td>Bnk</td>\n",
       "      <td>AllPub</td>\n",
       "      <td>...</td>\n",
       "      <td>0</td>\n",
       "      <td>-1</td>\n",
       "      <td>-1</td>\n",
       "      <td>-1</td>\n",
       "      <td>0</td>\n",
       "      <td>4</td>\n",
       "      <td>2006</td>\n",
       "      <td>WD</td>\n",
       "      <td>Normal</td>\n",
       "      <td>False</td>\n",
       "    </tr>\n",
       "    <tr>\n",
       "      <th>1449</th>\n",
       "      <td>2910</td>\n",
       "      <td>180</td>\n",
       "      <td>RM</td>\n",
       "      <td>21.0</td>\n",
       "      <td>1470</td>\n",
       "      <td>Pave</td>\n",
       "      <td>-1</td>\n",
       "      <td>Reg</td>\n",
       "      <td>Lvl</td>\n",
       "      <td>AllPub</td>\n",
       "      <td>...</td>\n",
       "      <td>0</td>\n",
       "      <td>-1</td>\n",
       "      <td>-1</td>\n",
       "      <td>-1</td>\n",
       "      <td>0</td>\n",
       "      <td>4</td>\n",
       "      <td>2006</td>\n",
       "      <td>WD</td>\n",
       "      <td>Normal</td>\n",
       "      <td>False</td>\n",
       "    </tr>\n",
       "    <tr>\n",
       "      <th>1453</th>\n",
       "      <td>2914</td>\n",
       "      <td>160</td>\n",
       "      <td>RM</td>\n",
       "      <td>21.0</td>\n",
       "      <td>1526</td>\n",
       "      <td>Pave</td>\n",
       "      <td>-1</td>\n",
       "      <td>Reg</td>\n",
       "      <td>Lvl</td>\n",
       "      <td>AllPub</td>\n",
       "      <td>...</td>\n",
       "      <td>0</td>\n",
       "      <td>-1</td>\n",
       "      <td>GdPrv</td>\n",
       "      <td>-1</td>\n",
       "      <td>0</td>\n",
       "      <td>6</td>\n",
       "      <td>2006</td>\n",
       "      <td>WD</td>\n",
       "      <td>Normal</td>\n",
       "      <td>False</td>\n",
       "    </tr>\n",
       "    <tr>\n",
       "      <th>1454</th>\n",
       "      <td>2915</td>\n",
       "      <td>160</td>\n",
       "      <td>RM</td>\n",
       "      <td>21.0</td>\n",
       "      <td>1936</td>\n",
       "      <td>Pave</td>\n",
       "      <td>-1</td>\n",
       "      <td>Reg</td>\n",
       "      <td>Lvl</td>\n",
       "      <td>AllPub</td>\n",
       "      <td>...</td>\n",
       "      <td>0</td>\n",
       "      <td>-1</td>\n",
       "      <td>-1</td>\n",
       "      <td>-1</td>\n",
       "      <td>0</td>\n",
       "      <td>6</td>\n",
       "      <td>2006</td>\n",
       "      <td>WD</td>\n",
       "      <td>Normal</td>\n",
       "      <td>False</td>\n",
       "    </tr>\n",
       "    <tr>\n",
       "      <th>1457</th>\n",
       "      <td>2918</td>\n",
       "      <td>85</td>\n",
       "      <td>RL</td>\n",
       "      <td>62.0</td>\n",
       "      <td>10441</td>\n",
       "      <td>Pave</td>\n",
       "      <td>-1</td>\n",
       "      <td>Reg</td>\n",
       "      <td>Lvl</td>\n",
       "      <td>AllPub</td>\n",
       "      <td>...</td>\n",
       "      <td>0</td>\n",
       "      <td>-1</td>\n",
       "      <td>MnPrv</td>\n",
       "      <td>Shed</td>\n",
       "      <td>700</td>\n",
       "      <td>7</td>\n",
       "      <td>2006</td>\n",
       "      <td>WD</td>\n",
       "      <td>Normal</td>\n",
       "      <td>False</td>\n",
       "    </tr>\n",
       "  </tbody>\n",
       "</table>\n",
       "<p>76 rows × 81 columns</p>\n",
       "</div>"
      ],
      "text/plain": [
       "        Id  MSSubClass MSZoning  LotFrontage  LotArea Street Alley LotShape  \\\n",
       "53    1514          90       RL         98.0    13260   Pave    -1      IR1   \n",
       "71    1532          30       RM         56.0     4485   Pave  Grvl      Reg   \n",
       "79    1540         190       RM        100.0     9045   Pave    -1      Reg   \n",
       "92    1553          70       RM         60.0    12900   Pave  Grvl      Reg   \n",
       "96    1557         190       RL         60.0     9900   Pave    -1      Reg   \n",
       "...    ...         ...      ...          ...      ...    ...   ...      ...   \n",
       "1433  2894          50  C (all)         60.0     8520   Grvl    -1      Reg   \n",
       "1449  2910         180       RM         21.0     1470   Pave    -1      Reg   \n",
       "1453  2914         160       RM         21.0     1526   Pave    -1      Reg   \n",
       "1454  2915         160       RM         21.0     1936   Pave    -1      Reg   \n",
       "1457  2918          85       RL         62.0    10441   Pave    -1      Reg   \n",
       "\n",
       "     LandContour Utilities  ... PoolArea PoolQC  Fence MiscFeature MiscVal  \\\n",
       "53           Lvl    AllPub  ...        0     -1     -1          -1       0   \n",
       "71           Lvl    AllPub  ...        0     -1  MnPrv          -1       0   \n",
       "79           Lvl    AllPub  ...        0     -1     -1          -1       0   \n",
       "92           Lvl    AllPub  ...        0     -1     -1          -1       0   \n",
       "96           Lvl    AllPub  ...        0     -1     -1          -1       0   \n",
       "...          ...       ...  ...      ...    ...    ...         ...     ...   \n",
       "1433         Bnk    AllPub  ...        0     -1     -1          -1       0   \n",
       "1449         Lvl    AllPub  ...        0     -1     -1          -1       0   \n",
       "1453         Lvl    AllPub  ...        0     -1  GdPrv          -1       0   \n",
       "1454         Lvl    AllPub  ...        0     -1     -1          -1       0   \n",
       "1457         Lvl    AllPub  ...        0     -1  MnPrv        Shed     700   \n",
       "\n",
       "     MoSold YrSold  SaleType  SaleCondition  CheckAnos  \n",
       "53        1   2010       Oth        Abnorml      False  \n",
       "71        5   2010        WD         Normal      False  \n",
       "79        6   2010        WD        Abnorml      False  \n",
       "92        5   2010        WD         Normal      False  \n",
       "96        2   2010     ConLD         Normal      False  \n",
       "...     ...    ...       ...            ...        ...  \n",
       "1433      4   2006        WD         Normal      False  \n",
       "1449      4   2006        WD         Normal      False  \n",
       "1453      6   2006        WD         Normal      False  \n",
       "1454      6   2006        WD         Normal      False  \n",
       "1457      7   2006        WD         Normal      False  \n",
       "\n",
       "[76 rows x 81 columns]"
      ]
     },
     "execution_count": 56,
     "metadata": {},
     "output_type": "execute_result"
    }
   ],
   "source": [
    "df_teste[(df_teste.CheckAnos == False) & (df_teste.GarageYrBlt == -1)]"
   ]
  },
  {
   "cell_type": "markdown",
   "id": "3f553485-adc4-4d60-98a0-69ba7b47c679",
   "metadata": {},
   "source": [
    "Isso significa que supor que a garagem foi contruída no mesmo ano que a casa não é uma suposição grotesca. Existe evidências que dizem que é bastante provável. Como não possuimos informações direto da fonte(negócio), essa é a suposição que iremos implementar."
   ]
  },
  {
   "cell_type": "code",
   "execution_count": 58,
   "id": "0d2a327e",
   "metadata": {},
   "outputs": [],
   "source": [
    "# Apagando essa coluna\n",
    "df_teste = df_teste.drop('CheckAnos', axis=1)"
   ]
  },
  {
   "cell_type": "code",
   "execution_count": 59,
   "id": "45f9a280",
   "metadata": {},
   "outputs": [
    {
     "data": {
      "text/plain": [
       "666     1910\n",
       "1116    1923\n",
       "Name: YearBuilt, dtype: int64"
      ]
     },
     "execution_count": 59,
     "metadata": {},
     "output_type": "execute_result"
    }
   ],
   "source": [
    "# Verificando os valores de construção da casa\n",
    "df_teste.loc[df_teste.GarageYrBlt.isnull(), 'YearBuilt'] "
   ]
  },
  {
   "cell_type": "code",
   "execution_count": 60,
   "id": "49eab408",
   "metadata": {},
   "outputs": [],
   "source": [
    "# Substituindo as colunas vazias pelo ano de construção da casa\n",
    "df_teste.loc[df_teste.GarageCond.isnull(), 'GarageYrBlt'] = df_teste.loc[df_teste.GarageYrBlt.isnull(), 'YearBuilt'] "
   ]
  },
  {
   "cell_type": "markdown",
   "id": "82d4c14f",
   "metadata": {},
   "source": [
    "- E a coluna GarageFinish"
   ]
  },
  {
   "cell_type": "code",
   "execution_count": 62,
   "id": "fab9ec42",
   "metadata": {},
   "outputs": [
    {
     "data": {
      "text/plain": [
       "GarageFinish\n",
       "Unf    365\n",
       "RFn     15\n",
       "Fin     10\n",
       "Name: count, dtype: int64"
      ]
     },
     "execution_count": 62,
     "metadata": {},
     "output_type": "execute_result"
    }
   ],
   "source": [
    "# Vamos verificar os valores quando GarageType == \"Detchd\"\n",
    "df_teste.loc[df_teste['GarageType'] == 'Detchd', 'GarageFinish'].value_counts()"
   ]
  },
  {
   "cell_type": "markdown",
   "id": "88113d38-0b90-46dc-a929-00240a937635",
   "metadata": {},
   "source": [
    "No caso da coluna **GarageFinish** percebemos que o valor mais frequente é muito maior do que os outros, nesse caso até faz sentido utilizar a **moda** para substituir os valores ausentes; Se existissem duas modas ou mais, talvez essa não seria a melhor opção."
   ]
  },
  {
   "cell_type": "code",
   "execution_count": 64,
   "id": "41f5adf0",
   "metadata": {},
   "outputs": [
    {
     "data": {
      "text/plain": [
       "'Unf'"
      ]
     },
     "execution_count": 64,
     "metadata": {},
     "output_type": "execute_result"
    }
   ],
   "source": [
    "# Podemos substituir pelo valor mais frequente\n",
    "moda_garagefinish = df_teste.loc[df_teste['GarageType'] == 'Detchd', 'GarageFinish'].mode()[0]\n",
    "moda_garagefinish"
   ]
  },
  {
   "cell_type": "code",
   "execution_count": 65,
   "id": "482a198e-c6f8-4787-804c-38b9f2702c1b",
   "metadata": {},
   "outputs": [],
   "source": [
    "df_teste.loc[(df_teste['GarageType'] == 'Detchd') & (df_teste['GarageFinish'].isnull()), 'GarageFinish'] = moda_garagefinish"
   ]
  },
  {
   "cell_type": "markdown",
   "id": "c9f6a77d",
   "metadata": {},
   "source": [
    "- Fazendo o mesmo para GarageQual e GarageCond"
   ]
  },
  {
   "cell_type": "code",
   "execution_count": 67,
   "id": "384d1330",
   "metadata": {},
   "outputs": [
    {
     "data": {
      "text/plain": [
       "GarageQual  GarageCond\n",
       "TA          TA            309\n",
       "Fa          TA             38\n",
       "            Fa             19\n",
       "TA          Fa             16\n",
       "Fa          Po              3\n",
       "Gd          Ex              1\n",
       "Po          Po              1\n",
       "            Fa              1\n",
       "TA          Gd              1\n",
       "            Po              1\n",
       "Name: count, dtype: int64"
      ]
     },
     "execution_count": 67,
     "metadata": {},
     "output_type": "execute_result"
    }
   ],
   "source": [
    "# Vamos verificar os valores quando GarageType == \"Detchd\"\n",
    "df_teste.loc[df_teste['GarageType'] == 'Detchd', ['GarageQual', 'GarageCond']].value_counts()"
   ]
  },
  {
   "cell_type": "markdown",
   "id": "230e9874-f72e-4945-93c4-5506c24579ee",
   "metadata": {},
   "source": [
    "No caso dessas duas colunas de Garagem, temos que nos atentar ao fato do que levou o funcionário a classificar as casas com essas respectivas condições e qualidades. Podemos nos perguntar: \"porque a maioria das pessoas avaliaram como sendo **na média**, será que faz sentido ?\"; Teriamos que ter um entendimento do **negócio** mais profundo, conhecendo melhor a pessoa que avalia as Garagens. As vezes avaliar a qualidade e condição da Garagem como sendo **ruim**, faça com que o dono da casa reclame e ache que isso vai ser um problema, e isso vai dar uma dor de cabeça tão grande para o avaliador que ele simplesmente, para evitar isso, diz **que a Garagem está na média**. A mesma coisa pode acontecer se o avaliador avalie a Garagem como sendo excelente, ai o comprador diz que não está excelente, gerando novamente uma dor de cabeça. As vezes o avaliador pode acabar enviesando os dados simplesmente porque aquilo é mais fácil pra ele, e não porque aquilo é a informação verdadeira. Claro que isso são suposição, e teriamos que testar na prática para ver se isso realmente acontece, seria necessário entender todo o contexto da empresa."
   ]
  },
  {
   "cell_type": "code",
   "execution_count": 69,
   "id": "73d3be4e",
   "metadata": {},
   "outputs": [
    {
     "data": {
      "text/plain": [
       "('TA', 'TA')"
      ]
     },
     "execution_count": 69,
     "metadata": {},
     "output_type": "execute_result"
    }
   ],
   "source": [
    "# Podemos verificar a moda dessa coluna\n",
    "moda_garagequal = df_teste.loc[df_teste['GarageType'] == 'Detchd', 'GarageQual'].mode()[0]\n",
    "moda_garagecond = df_teste.loc[df_teste['GarageType'] == 'Detchd', 'GarageCond'].mode()[0]\n",
    "moda_garagequal, moda_garagequal"
   ]
  },
  {
   "cell_type": "code",
   "execution_count": 70,
   "id": "2ae27cf6",
   "metadata": {},
   "outputs": [],
   "source": [
    "# E usar esse valor no GarageQual\n",
    "df_teste.loc[(df_teste['GarageType'] == 'Detchd') & (df_teste['GarageQual'].isnull()), 'GarageQual'] = moda_garagequal"
   ]
  },
  {
   "cell_type": "code",
   "execution_count": 71,
   "id": "ee764b00",
   "metadata": {},
   "outputs": [],
   "source": [
    "# E fazer o mesmo para GarageCond\n",
    "df_teste.loc[(df_teste['GarageType'] == 'Detchd') & (df_teste['GarageCond'].isnull()), 'GarageCond'] = moda_garagecond"
   ]
  },
  {
   "cell_type": "code",
   "execution_count": 72,
   "id": "bac345a2-66d7-488b-8e40-a9bbc32fdefa",
   "metadata": {},
   "outputs": [
    {
     "data": {
      "text/html": [
       "<div>\n",
       "<style scoped>\n",
       "    .dataframe tbody tr th:only-of-type {\n",
       "        vertical-align: middle;\n",
       "    }\n",
       "\n",
       "    .dataframe tbody tr th {\n",
       "        vertical-align: top;\n",
       "    }\n",
       "\n",
       "    .dataframe thead th {\n",
       "        text-align: right;\n",
       "    }\n",
       "</style>\n",
       "<table border=\"1\" class=\"dataframe\">\n",
       "  <thead>\n",
       "    <tr style=\"text-align: right;\">\n",
       "      <th></th>\n",
       "      <th>GarageType</th>\n",
       "      <th>GarageYrBlt</th>\n",
       "      <th>GarageFinish</th>\n",
       "      <th>GarageCars</th>\n",
       "      <th>GarageArea</th>\n",
       "      <th>GarageQual</th>\n",
       "      <th>GarageCond</th>\n",
       "    </tr>\n",
       "  </thead>\n",
       "  <tbody>\n",
       "    <tr>\n",
       "      <th>1116</th>\n",
       "      <td>Detchd</td>\n",
       "      <td>1923.0</td>\n",
       "      <td>Unf</td>\n",
       "      <td>NaN</td>\n",
       "      <td>NaN</td>\n",
       "      <td>TA</td>\n",
       "      <td>TA</td>\n",
       "    </tr>\n",
       "  </tbody>\n",
       "</table>\n",
       "</div>"
      ],
      "text/plain": [
       "     GarageType  GarageYrBlt GarageFinish  GarageCars  GarageArea GarageQual  \\\n",
       "1116     Detchd       1923.0          Unf         NaN         NaN         TA   \n",
       "\n",
       "     GarageCond  \n",
       "1116         TA  "
      ]
     },
     "execution_count": 72,
     "metadata": {},
     "output_type": "execute_result"
    }
   ],
   "source": [
    "# Verificando os valores nulos novamente\n",
    "df_teste.loc[(df_teste['GarageCars'].isnull()) & (df_teste['GarageArea'].isnull()), col_garagem]"
   ]
  },
  {
   "cell_type": "markdown",
   "id": "6a73edd0",
   "metadata": {},
   "source": [
    "- Para finalizar as colunas de garagem, vamos tratar GarageCars e GarageArea"
   ]
  },
  {
   "cell_type": "markdown",
   "id": "b2fcdc81-ebd7-44d5-ac41-5ffbec1e69e3",
   "metadata": {},
   "source": [
    "Para as colunas de GarageCars e GarageArea o tratamento vai ser um pouco diferente, tendo em vista que estamos falando de colunas que possuem valores **contínuos**, nesse caso a moda, não faria muito sentido. Faremos o tratamento utilizando a **média** de cada coluna."
   ]
  },
  {
   "cell_type": "code",
   "execution_count": 75,
   "id": "b701e2cd-8e99-4586-ba8f-a8c77d6badf0",
   "metadata": {},
   "outputs": [
    {
     "data": {
      "text/html": [
       "<div>\n",
       "<style scoped>\n",
       "    .dataframe tbody tr th:only-of-type {\n",
       "        vertical-align: middle;\n",
       "    }\n",
       "\n",
       "    .dataframe tbody tr th {\n",
       "        vertical-align: top;\n",
       "    }\n",
       "\n",
       "    .dataframe thead th {\n",
       "        text-align: right;\n",
       "    }\n",
       "</style>\n",
       "<table border=\"1\" class=\"dataframe\">\n",
       "  <thead>\n",
       "    <tr style=\"text-align: right;\">\n",
       "      <th></th>\n",
       "      <th>GarageArea</th>\n",
       "      <th>GarageCars</th>\n",
       "    </tr>\n",
       "  </thead>\n",
       "  <tbody>\n",
       "    <tr>\n",
       "      <th>1116</th>\n",
       "      <td>NaN</td>\n",
       "      <td>NaN</td>\n",
       "    </tr>\n",
       "  </tbody>\n",
       "</table>\n",
       "</div>"
      ],
      "text/plain": [
       "      GarageArea  GarageCars\n",
       "1116         NaN         NaN"
      ]
     },
     "execution_count": 75,
     "metadata": {},
     "output_type": "execute_result"
    }
   ],
   "source": [
    "# A célula onde os valore são nulos\n",
    "df_teste.loc[(df_teste['GarageType'] == 'Detchd') & (df_teste['GarageArea'].isnull()), ['GarageArea', 'GarageCars']]"
   ]
  },
  {
   "cell_type": "code",
   "execution_count": 76,
   "id": "99ce4ee1",
   "metadata": {},
   "outputs": [
    {
     "data": {
      "text/plain": [
       "GarageCars      1.519182\n",
       "GarageArea    412.202046\n",
       "dtype: float64"
      ]
     },
     "execution_count": 76,
     "metadata": {},
     "output_type": "execute_result"
    }
   ],
   "source": [
    "# Agora vamos visualizar a média desses valores quando GarageType == \"Detchd\"\n",
    "media_carros = df_teste.loc[(df_teste['GarageType'] == 'Detchd'), ['GarageCars', 'GarageArea']].mean()\n",
    "media_carros"
   ]
  },
  {
   "cell_type": "code",
   "execution_count": 77,
   "id": "a3044c6b",
   "metadata": {},
   "outputs": [
    {
     "data": {
      "text/plain": [
       "array([  2., 412.])"
      ]
     },
     "execution_count": 77,
     "metadata": {},
     "output_type": "execute_result"
    }
   ],
   "source": [
    "# Como Não podemos ter meio carro, vamos arredondar os valores\n",
    "media_carros = round(media_carros, 0)\n",
    "media_carros.values"
   ]
  },
  {
   "cell_type": "code",
   "execution_count": 78,
   "id": "1409e0ff",
   "metadata": {},
   "outputs": [],
   "source": [
    "# Podemos usar esses valores se a média for vazia\n",
    "df_teste.loc[(df_teste['GarageType'] == 'Detchd') & (df_teste['GarageCars'].isnull()), 'GarageCars'] = media_carros[0]\n",
    "df_teste.loc[(df_teste['GarageType'] == 'Detchd') & (df_teste['GarageArea'].isnull()), 'GarageArea'] = media_carros[1]"
   ]
  },
  {
   "cell_type": "code",
   "execution_count": 79,
   "id": "6e1fb504-0e83-44f1-8258-b1a477e66845",
   "metadata": {},
   "outputs": [
    {
     "data": {
      "text/html": [
       "<div>\n",
       "<style scoped>\n",
       "    .dataframe tbody tr th:only-of-type {\n",
       "        vertical-align: middle;\n",
       "    }\n",
       "\n",
       "    .dataframe tbody tr th {\n",
       "        vertical-align: top;\n",
       "    }\n",
       "\n",
       "    .dataframe thead th {\n",
       "        text-align: right;\n",
       "    }\n",
       "</style>\n",
       "<table border=\"1\" class=\"dataframe\">\n",
       "  <thead>\n",
       "    <tr style=\"text-align: right;\">\n",
       "      <th></th>\n",
       "      <th>Functional</th>\n",
       "      <th>Fireplaces</th>\n",
       "      <th>FireplaceQu</th>\n",
       "      <th>GarageType</th>\n",
       "      <th>GarageYrBlt</th>\n",
       "      <th>GarageFinish</th>\n",
       "      <th>GarageCars</th>\n",
       "      <th>GarageArea</th>\n",
       "      <th>GarageQual</th>\n",
       "      <th>GarageCond</th>\n",
       "      <th>PavedDrive</th>\n",
       "      <th>WoodDeckSF</th>\n",
       "      <th>OpenPorchSF</th>\n",
       "      <th>EnclosedPorch</th>\n",
       "      <th>3SsnPorch</th>\n",
       "    </tr>\n",
       "  </thead>\n",
       "  <tbody>\n",
       "    <tr>\n",
       "      <th>666</th>\n",
       "      <td>Typ</td>\n",
       "      <td>0</td>\n",
       "      <td>-1</td>\n",
       "      <td>Detchd</td>\n",
       "      <td>1910.0</td>\n",
       "      <td>Unf</td>\n",
       "      <td>1.0</td>\n",
       "      <td>360.0</td>\n",
       "      <td>TA</td>\n",
       "      <td>TA</td>\n",
       "      <td>Y</td>\n",
       "      <td>64</td>\n",
       "      <td>0</td>\n",
       "      <td>180</td>\n",
       "      <td>0</td>\n",
       "    </tr>\n",
       "    <tr>\n",
       "      <th>1116</th>\n",
       "      <td>Typ</td>\n",
       "      <td>0</td>\n",
       "      <td>-1</td>\n",
       "      <td>Detchd</td>\n",
       "      <td>1923.0</td>\n",
       "      <td>Unf</td>\n",
       "      <td>2.0</td>\n",
       "      <td>412.0</td>\n",
       "      <td>TA</td>\n",
       "      <td>TA</td>\n",
       "      <td>Y</td>\n",
       "      <td>174</td>\n",
       "      <td>0</td>\n",
       "      <td>212</td>\n",
       "      <td>0</td>\n",
       "    </tr>\n",
       "  </tbody>\n",
       "</table>\n",
       "</div>"
      ],
      "text/plain": [
       "     Functional  Fireplaces FireplaceQu GarageType  GarageYrBlt GarageFinish  \\\n",
       "666         Typ           0          -1     Detchd       1910.0          Unf   \n",
       "1116        Typ           0          -1     Detchd       1923.0          Unf   \n",
       "\n",
       "      GarageCars  GarageArea GarageQual GarageCond PavedDrive  WoodDeckSF  \\\n",
       "666          1.0       360.0         TA         TA          Y          64   \n",
       "1116         2.0       412.0         TA         TA          Y         174   \n",
       "\n",
       "      OpenPorchSF  EnclosedPorch  3SsnPorch  \n",
       "666             0            180          0  \n",
       "1116            0            212          0  "
      ]
     },
     "execution_count": 79,
     "metadata": {},
     "output_type": "execute_result"
    }
   ],
   "source": [
    "# Visualizando novamente aquelas duas linhas que tinham valores vazios\n",
    "df_teste.iloc[[666, 1116], 55:70]"
   ]
  },
  {
   "cell_type": "code",
   "execution_count": 80,
   "id": "cb11407f",
   "metadata": {},
   "outputs": [
    {
     "data": {
      "text/plain": [
       "MasVnrType      894\n",
       "BsmtCond         45\n",
       "BsmtExposure     44\n",
       "BsmtQual         44\n",
       "BsmtFinType2     42\n",
       "BsmtFinType1     42\n",
       "MasVnrArea       15\n",
       "MSZoning          4\n",
       "BsmtFullBath      2\n",
       "Utilities         2\n",
       "BsmtHalfBath      2\n",
       "Functional        2\n",
       "TotalBsmtSF       1\n",
       "BsmtFinSF1        1\n",
       "Exterior2nd       1\n",
       "Exterior1st       1\n",
       "SaleType          1\n",
       "KitchenQual       1\n",
       "BsmtUnfSF         1\n",
       "BsmtFinSF2        1\n",
       "LandSlope         0\n",
       "dtype: int64"
      ]
     },
     "execution_count": 80,
     "metadata": {},
     "output_type": "execute_result"
    }
   ],
   "source": [
    "# Resumindo os valores vazios da base de teste\n",
    "df_teste.isnull().sum().sort_values(ascending=False).head(21)"
   ]
  },
  {
   "cell_type": "markdown",
   "id": "64550183",
   "metadata": {},
   "source": [
    "<a id=\"porao\"></a>\n",
    "- **E fazendo a mesma coisa para as <font color='blue'>colunas de Porão</font>**\n",
    "    - **NA: No Basement**\n",
    "- **Voltando para a base de dados de treino**"
   ]
  },
  {
   "cell_type": "code",
   "execution_count": 82,
   "id": "17c06923",
   "metadata": {},
   "outputs": [
    {
     "data": {
      "text/plain": [
       "Index(['BsmtQual', 'BsmtCond', 'BsmtExposure', 'BsmtFinType1', 'BsmtFinType2'], dtype='object')"
      ]
     },
     "execution_count": 82,
     "metadata": {},
     "output_type": "execute_result"
    }
   ],
   "source": [
    "# Verificando as colunas que possuem porão no nome e possuem valores vazios\n",
    "col_porao = df_treino.columns[(df_treino.columns.str.contains('Bsmt')) & (df_treino.isnull().any())]\n",
    "col_porao"
   ]
  },
  {
   "cell_type": "code",
   "execution_count": 83,
   "id": "cf3799d6",
   "metadata": {},
   "outputs": [
    {
     "data": {
      "text/plain": [
       "BsmtQual  BsmtCond  BsmtExposure  BsmtFinType1  BsmtFinType2\n",
       "NaN       NaN       NaN           NaN           NaN             37\n",
       "Gd        TA        No            GLQ           NaN              1\n",
       "Name: count, dtype: int64"
      ]
     },
     "execution_count": 83,
     "metadata": {},
     "output_type": "execute_result"
    }
   ],
   "source": [
    "# Analisando os valores\n",
    "df_treino.loc[df_treino['BsmtFinType2'].isnull(), col_porao].value_counts(dropna=False)"
   ]
  },
  {
   "cell_type": "code",
   "execution_count": 84,
   "id": "83b51d82-09b7-403b-929d-4667e64fa406",
   "metadata": {},
   "outputs": [
    {
     "data": {
      "text/plain": [
       "BsmtQual  BsmtCond  BsmtExposure  BsmtFinType1  BsmtFinType2\n",
       "NaN       NaN       NaN           NaN           NaN             37\n",
       "Gd        TA        NaN           Unf           Unf              1\n",
       "Name: count, dtype: int64"
      ]
     },
     "execution_count": 84,
     "metadata": {},
     "output_type": "execute_result"
    }
   ],
   "source": [
    "# Analisando para a coluna 'BsmtExposure'\n",
    "df_treino.loc[df_treino['BsmtExposure'].isnull(), col_porao].value_counts(dropna=False)"
   ]
  },
  {
   "cell_type": "markdown",
   "id": "ab2502c3-18f5-4559-ba87-c47c7728a1f3",
   "metadata": {},
   "source": [
    "Duas colunas especificamente, possuem valores nulos, porém nas outras colunas possuem valores preenchidos, nesse caso não podemos supor que os valores nulos das colunas **BsmtExpose** e **BsmtFinType2** é porque são casas que não tem porão, temos que tratar esses valores individualmente."
   ]
  },
  {
   "cell_type": "code",
   "execution_count": 86,
   "id": "c3e41f50-e3cd-4b1c-b6f0-7617d1a543bd",
   "metadata": {},
   "outputs": [
    {
     "data": {
      "text/plain": [
       "BsmtFinType2\n",
       "Unf    1256\n",
       "Rec      54\n",
       "LwQ      46\n",
       "BLQ      33\n",
       "ALQ      19\n",
       "GLQ      14\n",
       "Name: count, dtype: int64"
      ]
     },
     "execution_count": 86,
     "metadata": {},
     "output_type": "execute_result"
    }
   ],
   "source": [
    "# Focando na coluna 'BsmtFinType2', verificando o valor mais frequente.\n",
    "df_treino['BsmtFinType2'].value_counts()"
   ]
  },
  {
   "cell_type": "code",
   "execution_count": 87,
   "id": "3e24e37f-24a4-42d0-8aee-8c13c437fb33",
   "metadata": {},
   "outputs": [
    {
     "data": {
      "text/plain": [
       "'Unf'"
      ]
     },
     "execution_count": 87,
     "metadata": {},
     "output_type": "execute_result"
    }
   ],
   "source": [
    "# Obtendo a moda dessa coluna utilizando critérios mais específicos\n",
    "moda_BsmtFinType2 = df_treino.loc[\n",
    "    (df_treino.BsmtQual == 'Gd') &\n",
    "    (df_treino.BsmtExposure == 'No') &\n",
    "    (df_treino.BsmtCond == 'TA'),\n",
    "    'BsmtFinType2'\n",
    "].mode()[0]\n",
    "\n",
    "moda_BsmtFinType2"
   ]
  },
  {
   "cell_type": "code",
   "execution_count": 88,
   "id": "04343231-1e81-4bcf-ab07-e525937d2b77",
   "metadata": {},
   "outputs": [],
   "source": [
    "# Substituindo o valor nulo pela moda.\n",
    "df_treino.loc[(df_treino.BsmtQual == 'Gd') & (df_treino.BsmtFinType2.isnull()), 'BsmtFinType2'] = moda_BsmtFinType2"
   ]
  },
  {
   "cell_type": "code",
   "execution_count": 89,
   "id": "69fdb6be-6b67-48c4-9c49-a7551ecfa2b3",
   "metadata": {},
   "outputs": [
    {
     "data": {
      "text/plain": [
       "BsmtQual  BsmtCond  BsmtExposure  BsmtFinType1  BsmtFinType2\n",
       "NaN       NaN       NaN           NaN           NaN             37\n",
       "Name: count, dtype: int64"
      ]
     },
     "execution_count": 89,
     "metadata": {},
     "output_type": "execute_result"
    }
   ],
   "source": [
    "# Confirmando se realmente foi tratado o valor nulo.\n",
    "df_treino.loc[df_treino['BsmtFinType2'].isnull(), col_porao].value_counts(dropna=False)"
   ]
  },
  {
   "cell_type": "code",
   "execution_count": 90,
   "id": "ab329d0f-5935-4e44-b1d7-64c79f11f0eb",
   "metadata": {},
   "outputs": [
    {
     "data": {
      "text/plain": [
       "BsmtExposure\n",
       "No    953\n",
       "Av    221\n",
       "Gd    134\n",
       "Mn    114\n",
       "Name: count, dtype: int64"
      ]
     },
     "execution_count": 90,
     "metadata": {},
     "output_type": "execute_result"
    }
   ],
   "source": [
    "# Agora tratando a coluna 'BsmtExposure'\n",
    "df_treino['BsmtExposure'].value_counts()"
   ]
  },
  {
   "cell_type": "code",
   "execution_count": 91,
   "id": "be8b55fb-d03c-4278-bd44-5f24fa2e0a67",
   "metadata": {},
   "outputs": [
    {
     "data": {
      "text/plain": [
       "'No'"
      ]
     },
     "execution_count": 91,
     "metadata": {},
     "output_type": "execute_result"
    }
   ],
   "source": [
    "# Obtendo a moda dessa coluna utilizando critérios mais específicos\n",
    "moda_BsmtExposure = df_treino.loc[\n",
    "    (df_treino.BsmtQual == 'Gd') &\n",
    "    (df_treino.BsmtExposure == 'No') &\n",
    "    (df_treino.BsmtCond == 'TA'),\n",
    "    'BsmtExposure'\n",
    "].mode()[0]\n",
    "\n",
    "moda_BsmtExposure"
   ]
  },
  {
   "cell_type": "code",
   "execution_count": 92,
   "id": "2166a4c1-4fe1-477f-b5b4-077a5c598855",
   "metadata": {},
   "outputs": [],
   "source": [
    "# Substituindo o valor nulo pela moda.\n",
    "df_treino.loc[(df_treino['BsmtQual'] == 'Gd') & (df_treino['BsmtExposure'].isnull()), 'BsmtExposure'] = moda_BsmtExposure"
   ]
  },
  {
   "cell_type": "code",
   "execution_count": 93,
   "id": "d3596d10-bb48-4ff4-b44d-f4dbe4559223",
   "metadata": {},
   "outputs": [
    {
     "data": {
      "text/plain": [
       "BsmtQual  BsmtCond  BsmtExposure  BsmtFinType1  BsmtFinType2\n",
       "NaN       NaN       NaN           NaN           NaN             37\n",
       "Name: count, dtype: int64"
      ]
     },
     "execution_count": 93,
     "metadata": {},
     "output_type": "execute_result"
    }
   ],
   "source": [
    "# Confirmando se realmente foi tratado o valor nulo.\n",
    "df_treino.loc[df_treino['BsmtExposure'].isnull(), col_porao].value_counts(dropna=False)"
   ]
  },
  {
   "cell_type": "markdown",
   "id": "057d30f9",
   "metadata": {},
   "source": [
    "- Agora considerando as colunas que BsmtQual e BsmtCond são vazias"
   ]
  },
  {
   "cell_type": "code",
   "execution_count": 95,
   "id": "0b7acabc",
   "metadata": {},
   "outputs": [
    {
     "data": {
      "text/plain": [
       "BsmtQual  BsmtCond  BsmtExposure  BsmtFinType1  BsmtFinType2\n",
       "NaN       NaN       NaN           NaN           NaN             37\n",
       "Name: count, dtype: int64"
      ]
     },
     "execution_count": 95,
     "metadata": {},
     "output_type": "execute_result"
    }
   ],
   "source": [
    "# Verificando os valores com BsmtQual vazio\n",
    "df_treino.loc[df_treino['BsmtQual'].isnull(), col_porao].value_counts(dropna=False)"
   ]
  },
  {
   "cell_type": "code",
   "execution_count": 96,
   "id": "7b1b7c23-0d75-4496-9e23-31920373f5a7",
   "metadata": {},
   "outputs": [
    {
     "data": {
      "text/plain": [
       "BsmtQual  BsmtCond  BsmtExposure  BsmtFinType1  BsmtFinType2\n",
       "NaN       NaN       NaN           NaN           NaN             37\n",
       "Name: count, dtype: int64"
      ]
     },
     "execution_count": 96,
     "metadata": {},
     "output_type": "execute_result"
    }
   ],
   "source": [
    "# Verificando os valores com BsmtCond vazio\n",
    "df_treino.loc[df_treino['BsmtCond'].isnull(), col_porao].value_counts(dropna=False)"
   ]
  },
  {
   "cell_type": "markdown",
   "id": "aa3d8193-b800-4830-9310-d6dd88ebe5eb",
   "metadata": {},
   "source": [
    "- Nesse caso, acessando a Descrição dos Dados percebe-se que esses valores vazios em todas as colunas significam que essas casas **não possuem porão**"
   ]
  },
  {
   "cell_type": "code",
   "execution_count": 98,
   "id": "5a33302e",
   "metadata": {},
   "outputs": [],
   "source": [
    "# Substituindo os valores sem porão por -1\n",
    "df_treino.loc[df_treino['BsmtCond'].isnull(), col_porao] = -1"
   ]
  },
  {
   "cell_type": "code",
   "execution_count": 99,
   "id": "04b19280",
   "metadata": {},
   "outputs": [
    {
     "data": {
      "text/plain": [
       "MasVnrType     872\n",
       "MasVnrArea       8\n",
       "Electrical       1\n",
       "MSSubClass       0\n",
       "LotArea          0\n",
       "Street           0\n",
       "MSZoning         0\n",
       "LotFrontage      0\n",
       "dtype: int64"
      ]
     },
     "execution_count": 99,
     "metadata": {},
     "output_type": "execute_result"
    }
   ],
   "source": [
    "# Visualizando os valores vazios\n",
    "df_treino.isnull().sum().sort_values(ascending=False).head(8)"
   ]
  },
  {
   "cell_type": "markdown",
   "id": "a9fa38bc-35bf-43d9-9300-3d9deb04282c",
   "metadata": {},
   "source": [
    "O mesmo para a base de **<font color=Blue>teste</font>**"
   ]
  },
  {
   "cell_type": "code",
   "execution_count": 101,
   "id": "248bb427",
   "metadata": {},
   "outputs": [
    {
     "data": {
      "text/plain": [
       "BsmtQual  BsmtCond  BsmtExposure  BsmtFinType1  BsmtFinType2\n",
       "NaN       NaN       NaN           NaN           NaN             42\n",
       "          Fa        No            Unf           Unf              1\n",
       "          TA        No            Unf           Unf              1\n",
       "Name: count, dtype: int64"
      ]
     },
     "execution_count": 101,
     "metadata": {},
     "output_type": "execute_result"
    }
   ],
   "source": [
    "# Analisando os valores\n",
    "df_teste.loc[df_teste['BsmtQual'].isnull(), col_porao].value_counts(dropna=False)"
   ]
  },
  {
   "cell_type": "markdown",
   "id": "0082bbee",
   "metadata": {},
   "source": [
    "- Começando a tratar a coluna BsmtQual"
   ]
  },
  {
   "cell_type": "code",
   "execution_count": 103,
   "id": "884fffe8",
   "metadata": {},
   "outputs": [
    {
     "data": {
      "text/plain": [
       "Index(['BsmtQual', 'BsmtCond', 'BsmtExposure', 'BsmtFinType1', 'BsmtFinSF1',\n",
       "       'BsmtFinType2', 'BsmtFinSF2', 'BsmtUnfSF', 'TotalBsmtSF',\n",
       "       'BsmtFullBath', 'BsmtHalfBath'],\n",
       "      dtype='object')"
      ]
     },
     "execution_count": 103,
     "metadata": {},
     "output_type": "execute_result"
    }
   ],
   "source": [
    "# Trabalhando tratando a base de teste\n",
    "col_porao_teste = df_teste.columns[(df_teste.columns.str.contains('Bsmt')) & (df_teste.isnull().any())]\n",
    "col_porao_teste"
   ]
  },
  {
   "cell_type": "code",
   "execution_count": 104,
   "id": "e6e0c3fd-8ecc-4cbb-ae6c-f989c2e961cd",
   "metadata": {},
   "outputs": [
    {
     "data": {
      "text/plain": [
       "BsmtQual  BsmtCond  BsmtExposure  BsmtFinType1  BsmtFinSF1  BsmtFinType2  BsmtFinSF2  BsmtUnfSF  TotalBsmtSF  BsmtFullBath  BsmtHalfBath\n",
       "NaN       NaN       NaN           NaN           0.0         NaN           0.0         0.0        0.0          0.0           0.0             40\n",
       "          Fa        No            Unf           0.0         Unf           0.0         173.0      173.0        0.0           0.0              1\n",
       "          TA        No            Unf           0.0         Unf           0.0         356.0      356.0        0.0           0.0              1\n",
       "          NaN       NaN           NaN           0.0         NaN           0.0         0.0        0.0          NaN           NaN              1\n",
       "                                                NaN         NaN           NaN         NaN        NaN          NaN           NaN              1\n",
       "Name: count, dtype: int64"
      ]
     },
     "execution_count": 104,
     "metadata": {},
     "output_type": "execute_result"
    }
   ],
   "source": [
    "# Analisando os valores\n",
    "df_teste.loc[df_teste.BsmtQual.isnull(), col_porao_teste].value_counts(dropna=False)"
   ]
  },
  {
   "cell_type": "code",
   "execution_count": 105,
   "id": "b79beae9-4c21-4849-8fa1-c31403738a3f",
   "metadata": {},
   "outputs": [
    {
     "data": {
      "text/html": [
       "<div>\n",
       "<style scoped>\n",
       "    .dataframe tbody tr th:only-of-type {\n",
       "        vertical-align: middle;\n",
       "    }\n",
       "\n",
       "    .dataframe tbody tr th {\n",
       "        vertical-align: top;\n",
       "    }\n",
       "\n",
       "    .dataframe thead th {\n",
       "        text-align: right;\n",
       "    }\n",
       "</style>\n",
       "<table border=\"1\" class=\"dataframe\">\n",
       "  <thead>\n",
       "    <tr style=\"text-align: right;\">\n",
       "      <th></th>\n",
       "      <th>BsmtQual</th>\n",
       "      <th>BsmtCond</th>\n",
       "      <th>BsmtExposure</th>\n",
       "      <th>BsmtFinType1</th>\n",
       "      <th>BsmtFinSF1</th>\n",
       "      <th>BsmtFinType2</th>\n",
       "      <th>BsmtFinSF2</th>\n",
       "      <th>BsmtUnfSF</th>\n",
       "      <th>TotalBsmtSF</th>\n",
       "      <th>BsmtFullBath</th>\n",
       "      <th>BsmtHalfBath</th>\n",
       "    </tr>\n",
       "  </thead>\n",
       "  <tbody>\n",
       "    <tr>\n",
       "      <th>757</th>\n",
       "      <td>NaN</td>\n",
       "      <td>Fa</td>\n",
       "      <td>No</td>\n",
       "      <td>Unf</td>\n",
       "      <td>0.0</td>\n",
       "      <td>Unf</td>\n",
       "      <td>0.0</td>\n",
       "      <td>173.0</td>\n",
       "      <td>173.0</td>\n",
       "      <td>0.0</td>\n",
       "      <td>0.0</td>\n",
       "    </tr>\n",
       "    <tr>\n",
       "      <th>758</th>\n",
       "      <td>NaN</td>\n",
       "      <td>TA</td>\n",
       "      <td>No</td>\n",
       "      <td>Unf</td>\n",
       "      <td>0.0</td>\n",
       "      <td>Unf</td>\n",
       "      <td>0.0</td>\n",
       "      <td>356.0</td>\n",
       "      <td>356.0</td>\n",
       "      <td>0.0</td>\n",
       "      <td>0.0</td>\n",
       "    </tr>\n",
       "  </tbody>\n",
       "</table>\n",
       "</div>"
      ],
      "text/plain": [
       "    BsmtQual BsmtCond BsmtExposure BsmtFinType1  BsmtFinSF1 BsmtFinType2  \\\n",
       "757      NaN       Fa           No          Unf         0.0          Unf   \n",
       "758      NaN       TA           No          Unf         0.0          Unf   \n",
       "\n",
       "     BsmtFinSF2  BsmtUnfSF  TotalBsmtSF  BsmtFullBath  BsmtHalfBath  \n",
       "757         0.0      173.0        173.0           0.0           0.0  \n",
       "758         0.0      356.0        356.0           0.0           0.0  "
      ]
     },
     "execution_count": 105,
     "metadata": {},
     "output_type": "execute_result"
    }
   ],
   "source": [
    "# Indo além\n",
    "df_teste.loc[(df_teste.BsmtQual.isnull()) & (df_teste.BsmtCond.notnull()), col_porao_teste]"
   ]
  },
  {
   "cell_type": "code",
   "execution_count": 106,
   "id": "adf22264",
   "metadata": {},
   "outputs": [
    {
     "data": {
      "text/plain": [
       "BsmtQual\n",
       "TA    634\n",
       "Gd    591\n",
       "Ex    137\n",
       "Fa     53\n",
       "Name: count, dtype: int64"
      ]
     },
     "execution_count": 106,
     "metadata": {},
     "output_type": "execute_result"
    }
   ],
   "source": [
    "# Podemos verificar o valor mais frequente\n",
    "df_teste.BsmtQual.value_counts()"
   ]
  },
  {
   "cell_type": "markdown",
   "id": "ed8481dd-4e67-418a-ac5c-21c1ddab3f20",
   "metadata": {},
   "source": [
    "Nesse temos mais de um valor sendo bastante frequente na coluna que estamos tratando, talvez seja adequado aplicar mais filtros; ser mais específico na avaliação da moda."
   ]
  },
  {
   "cell_type": "code",
   "execution_count": 108,
   "id": "73dfed72-dcd1-4338-9794-9d4045c6910b",
   "metadata": {},
   "outputs": [
    {
     "data": {
      "text/plain": [
       "BsmtCond  BsmtExposure  BsmtFinType1  BsmtFinSF1  BsmtFinType2\n",
       "Fa        Av            BLQ           749.0       Rec             Gd\n",
       "                        GLQ           870.0       Unf             Gd\n",
       "                        LwQ           646.0       Unf             TA\n",
       "          Mn            ALQ           361.0       Rec             Gd\n",
       "                                      890.0       Unf             TA\n",
       "                                                                  ..\n",
       "TA        No            Rec           1026.0      Unf             TA\n",
       "                                      1116.0      Unf             TA\n",
       "                                      1173.0      Unf             TA\n",
       "                                      1312.0      Unf             TA\n",
       "                        Unf           0.0         Unf             TA\n",
       "Name: BsmtQual, Length: 951, dtype: object"
      ]
     },
     "execution_count": 108,
     "metadata": {},
     "output_type": "execute_result"
    }
   ],
   "source": [
    "# Fazendo a agregação pelas colunas que nos ajudam a realizar um filtro mais específico\n",
    "df_teste.groupby(['BsmtCond', 'BsmtExposure', 'BsmtFinType1', 'BsmtFinSF1', 'BsmtFinType2'])['BsmtQual'].agg(pd.Series.mode)"
   ]
  },
  {
   "cell_type": "markdown",
   "id": "81031d9e-3dbd-44e5-aa80-5d2fa90b4b90",
   "metadata": {},
   "source": [
    "Aparentemente, o valor de moda para a coluna inteira é o mesmo para essas duas linhas com valores nulos em **BsmtQual** \n",
    "\n",
    "Assim, podemos substituir as linhas com valores faltando utilizando essas mesmas regras de filtro com agregação."
   ]
  },
  {
   "cell_type": "code",
   "execution_count": 110,
   "id": "f6de5112-8d91-46c0-a75e-4a1778e4f6cc",
   "metadata": {},
   "outputs": [
    {
     "data": {
      "text/plain": [
       "array(['TA', 'TA'], dtype=object)"
      ]
     },
     "execution_count": 110,
     "metadata": {},
     "output_type": "execute_result"
    }
   ],
   "source": [
    "# Selecionando a moda de forma contextualizada\n",
    "moda_BsmtQual = df_teste.loc[(df_teste.BsmtQual.isnull()) & (df_teste.BsmtCond.notnull()), 'BsmtQual'].fillna(df_teste.groupby([\n",
    "    'BsmtCond', 'BsmtExposure', 'BsmtFinType1', 'BsmtFinSF1', 'BsmtFinType2'\n",
    "])['BsmtQual'].transform(lambda x: pd.Series.mode(x)[0]))\n",
    "\n",
    "moda_BsmtQual.values"
   ]
  },
  {
   "cell_type": "markdown",
   "id": "79364a3c-6bda-46ba-b64a-4f636e1b3a2f",
   "metadata": {},
   "source": [
    "Essa abordagem permite imputar valores de uma forma contextualizada, baseada em agrupamentos específicos de outras colunas."
   ]
  },
  {
   "cell_type": "code",
   "execution_count": 112,
   "id": "85a45a37",
   "metadata": {},
   "outputs": [],
   "source": [
    "# E usar esse valor para substituir as linhas acima\n",
    "df_teste.loc[(df_teste.BsmtQual.isnull()) & (df_teste.BsmtCond.notnull()), 'BsmtQual'] = moda_BsmtQual.values"
   ]
  },
  {
   "cell_type": "code",
   "execution_count": 113,
   "id": "3813d469",
   "metadata": {},
   "outputs": [
    {
     "data": {
      "text/html": [
       "<div>\n",
       "<style scoped>\n",
       "    .dataframe tbody tr th:only-of-type {\n",
       "        vertical-align: middle;\n",
       "    }\n",
       "\n",
       "    .dataframe tbody tr th {\n",
       "        vertical-align: top;\n",
       "    }\n",
       "\n",
       "    .dataframe thead th {\n",
       "        text-align: right;\n",
       "    }\n",
       "</style>\n",
       "<table border=\"1\" class=\"dataframe\">\n",
       "  <thead>\n",
       "    <tr style=\"text-align: right;\">\n",
       "      <th></th>\n",
       "      <th>BsmtQual</th>\n",
       "      <th>BsmtCond</th>\n",
       "      <th>BsmtExposure</th>\n",
       "      <th>BsmtFinType1</th>\n",
       "      <th>BsmtFinSF1</th>\n",
       "      <th>BsmtFinType2</th>\n",
       "      <th>BsmtFinSF2</th>\n",
       "      <th>BsmtUnfSF</th>\n",
       "      <th>TotalBsmtSF</th>\n",
       "      <th>Heating</th>\n",
       "    </tr>\n",
       "  </thead>\n",
       "  <tbody>\n",
       "    <tr>\n",
       "      <th>757</th>\n",
       "      <td>TA</td>\n",
       "      <td>Fa</td>\n",
       "      <td>No</td>\n",
       "      <td>Unf</td>\n",
       "      <td>0.0</td>\n",
       "      <td>Unf</td>\n",
       "      <td>0.0</td>\n",
       "      <td>173.0</td>\n",
       "      <td>173.0</td>\n",
       "      <td>GasA</td>\n",
       "    </tr>\n",
       "    <tr>\n",
       "      <th>758</th>\n",
       "      <td>TA</td>\n",
       "      <td>TA</td>\n",
       "      <td>No</td>\n",
       "      <td>Unf</td>\n",
       "      <td>0.0</td>\n",
       "      <td>Unf</td>\n",
       "      <td>0.0</td>\n",
       "      <td>356.0</td>\n",
       "      <td>356.0</td>\n",
       "      <td>GasA</td>\n",
       "    </tr>\n",
       "  </tbody>\n",
       "</table>\n",
       "</div>"
      ],
      "text/plain": [
       "    BsmtQual BsmtCond BsmtExposure BsmtFinType1  BsmtFinSF1 BsmtFinType2  \\\n",
       "757       TA       Fa           No          Unf         0.0          Unf   \n",
       "758       TA       TA           No          Unf         0.0          Unf   \n",
       "\n",
       "     BsmtFinSF2  BsmtUnfSF  TotalBsmtSF Heating  \n",
       "757         0.0      173.0        173.0    GasA  \n",
       "758         0.0      356.0        356.0    GasA  "
      ]
     },
     "execution_count": 113,
     "metadata": {},
     "output_type": "execute_result"
    }
   ],
   "source": [
    "# Visualizando essas linhas\n",
    "df_teste.iloc[[757,758], 30:40]"
   ]
  },
  {
   "cell_type": "markdown",
   "id": "3e7c19ad",
   "metadata": {},
   "source": [
    "- Agora tratando as outras colunas"
   ]
  },
  {
   "cell_type": "code",
   "execution_count": 115,
   "id": "64aeba40",
   "metadata": {},
   "outputs": [
    {
     "data": {
      "text/plain": [
       "BsmtQual  BsmtCond  BsmtExposure  BsmtFinType1  BsmtFinSF1  BsmtFinType2  BsmtFinSF2  BsmtUnfSF  TotalBsmtSF  BsmtFullBath  BsmtHalfBath\n",
       "NaN       NaN       NaN           NaN           0.0         NaN           0.0         0.0        0.0          0.0           0.0             40\n",
       "                                                                                                              NaN           NaN              1\n",
       "                                                NaN         NaN           NaN         NaN        NaN          NaN           NaN              1\n",
       "Name: count, dtype: int64"
      ]
     },
     "execution_count": 115,
     "metadata": {},
     "output_type": "execute_result"
    }
   ],
   "source": [
    "# Visualizando\n",
    "df_teste.loc[df_teste.BsmtQual.isnull(), col_porao_teste].value_counts(dropna=False)"
   ]
  },
  {
   "cell_type": "code",
   "execution_count": 116,
   "id": "1e8fd522-53ad-4502-bf24-3e630d43caa7",
   "metadata": {},
   "outputs": [],
   "source": [
    "# Substituindo por 0 as colunas numéricas das casas que não possuem porão\n",
    "df_teste.loc[df_teste.BsmtQual.isnull(), ['BsmtFinSF1', 'BsmtFinSF2', 'BsmtUnfSF', 'TotalBsmtSF', 'BsmtFullBath', 'BsmtHalfBath']] = 0"
   ]
  },
  {
   "cell_type": "code",
   "execution_count": 117,
   "id": "8a488d64",
   "metadata": {},
   "outputs": [],
   "source": [
    "# Substituindo por -1 as colunas de texto das casas que não possuem porão\n",
    "df_teste.loc[df_teste.BsmtQual.isnull(), ['BsmtQual', 'BsmtCond', 'BsmtExposure', 'BsmtFinType1', 'BsmtFinType2']] = -1"
   ]
  },
  {
   "cell_type": "code",
   "execution_count": 118,
   "id": "1e34da16",
   "metadata": {},
   "outputs": [
    {
     "data": {
      "text/plain": [
       "MasVnrType      894\n",
       "MasVnrArea       15\n",
       "MSZoning          4\n",
       "BsmtCond          3\n",
       "BsmtExposure      2\n",
       "Utilities         2\n",
       "Functional        2\n",
       "Exterior2nd       1\n",
       "Exterior1st       1\n",
       "KitchenQual       1\n",
       "SaleType          1\n",
       "MSSubClass        0\n",
       "LotArea           0\n",
       "Street            0\n",
       "Alley             0\n",
       "dtype: int64"
      ]
     },
     "execution_count": 118,
     "metadata": {},
     "output_type": "execute_result"
    }
   ],
   "source": [
    "# Visualizando os valores vazios\n",
    "df_teste.isnull().sum().sort_values(ascending=False).head(15)"
   ]
  },
  {
   "cell_type": "markdown",
   "id": "f1251ff0",
   "metadata": {},
   "source": [
    "- E agora para BsmtCond"
   ]
  },
  {
   "cell_type": "code",
   "execution_count": 120,
   "id": "7735d4fd",
   "metadata": {},
   "outputs": [
    {
     "data": {
      "text/html": [
       "<div>\n",
       "<style scoped>\n",
       "    .dataframe tbody tr th:only-of-type {\n",
       "        vertical-align: middle;\n",
       "    }\n",
       "\n",
       "    .dataframe tbody tr th {\n",
       "        vertical-align: top;\n",
       "    }\n",
       "\n",
       "    .dataframe thead th {\n",
       "        text-align: right;\n",
       "    }\n",
       "</style>\n",
       "<table border=\"1\" class=\"dataframe\">\n",
       "  <thead>\n",
       "    <tr style=\"text-align: right;\">\n",
       "      <th></th>\n",
       "      <th>BsmtQual</th>\n",
       "      <th>BsmtCond</th>\n",
       "      <th>BsmtExposure</th>\n",
       "      <th>BsmtFinType1</th>\n",
       "      <th>BsmtFinSF1</th>\n",
       "      <th>BsmtFinType2</th>\n",
       "      <th>BsmtFinSF2</th>\n",
       "      <th>BsmtUnfSF</th>\n",
       "      <th>TotalBsmtSF</th>\n",
       "      <th>BsmtFullBath</th>\n",
       "      <th>BsmtHalfBath</th>\n",
       "    </tr>\n",
       "  </thead>\n",
       "  <tbody>\n",
       "    <tr>\n",
       "      <th>580</th>\n",
       "      <td>Gd</td>\n",
       "      <td>NaN</td>\n",
       "      <td>Mn</td>\n",
       "      <td>GLQ</td>\n",
       "      <td>1044.0</td>\n",
       "      <td>Rec</td>\n",
       "      <td>382.0</td>\n",
       "      <td>0.0</td>\n",
       "      <td>1426.0</td>\n",
       "      <td>1.0</td>\n",
       "      <td>0.0</td>\n",
       "    </tr>\n",
       "    <tr>\n",
       "      <th>725</th>\n",
       "      <td>TA</td>\n",
       "      <td>NaN</td>\n",
       "      <td>No</td>\n",
       "      <td>BLQ</td>\n",
       "      <td>1033.0</td>\n",
       "      <td>Unf</td>\n",
       "      <td>0.0</td>\n",
       "      <td>94.0</td>\n",
       "      <td>1127.0</td>\n",
       "      <td>0.0</td>\n",
       "      <td>1.0</td>\n",
       "    </tr>\n",
       "    <tr>\n",
       "      <th>1064</th>\n",
       "      <td>TA</td>\n",
       "      <td>NaN</td>\n",
       "      <td>Av</td>\n",
       "      <td>ALQ</td>\n",
       "      <td>755.0</td>\n",
       "      <td>Unf</td>\n",
       "      <td>0.0</td>\n",
       "      <td>240.0</td>\n",
       "      <td>995.0</td>\n",
       "      <td>0.0</td>\n",
       "      <td>0.0</td>\n",
       "    </tr>\n",
       "  </tbody>\n",
       "</table>\n",
       "</div>"
      ],
      "text/plain": [
       "     BsmtQual BsmtCond BsmtExposure BsmtFinType1  BsmtFinSF1 BsmtFinType2  \\\n",
       "580        Gd      NaN           Mn          GLQ      1044.0          Rec   \n",
       "725        TA      NaN           No          BLQ      1033.0          Unf   \n",
       "1064       TA      NaN           Av          ALQ       755.0          Unf   \n",
       "\n",
       "      BsmtFinSF2  BsmtUnfSF  TotalBsmtSF  BsmtFullBath  BsmtHalfBath  \n",
       "580        382.0        0.0       1426.0           1.0           0.0  \n",
       "725          0.0       94.0       1127.0           0.0           1.0  \n",
       "1064         0.0      240.0        995.0           0.0           0.0  "
      ]
     },
     "execution_count": 120,
     "metadata": {},
     "output_type": "execute_result"
    }
   ],
   "source": [
    "# E visualizando BsmtCond na base\n",
    "df_teste.loc[df_teste.BsmtCond.isnull(), col_porao_teste]"
   ]
  },
  {
   "cell_type": "markdown",
   "id": "8f53c8b6-2d2d-46a0-a69d-92d6a800773d",
   "metadata": {},
   "source": [
    "Provavelmente foi erros de preenchimento, tendo em vista que essas casas possuem porão, pois tem informações nas outras colunas."
   ]
  },
  {
   "cell_type": "markdown",
   "id": "1ff84562-2acf-4a67-bfb2-ce2aadf1752e",
   "metadata": {},
   "source": [
    "No tratamento dessa coluna iremos simplificar, simplesmente atribuindo a moda."
   ]
  },
  {
   "cell_type": "code",
   "execution_count": 123,
   "id": "b2dad0fd-574d-4505-a191-5493b44440ff",
   "metadata": {},
   "outputs": [],
   "source": [
    "# Podemos usar a moda para substituir o valor\n",
    "df_teste.loc[df_teste.BsmtCond.isnull(), 'BsmtCond'] = df_teste.BsmtCond.mode()[0]"
   ]
  },
  {
   "cell_type": "markdown",
   "id": "52e91cc9-d75d-475b-835a-bcae18dd3d87",
   "metadata": {},
   "source": [
    "- Precisamos entender também o BsmtExposure"
   ]
  },
  {
   "cell_type": "code",
   "execution_count": 125,
   "id": "80fbfb3d-b501-411d-8a90-954f12164b8a",
   "metadata": {},
   "outputs": [
    {
     "data": {
      "text/html": [
       "<div>\n",
       "<style scoped>\n",
       "    .dataframe tbody tr th:only-of-type {\n",
       "        vertical-align: middle;\n",
       "    }\n",
       "\n",
       "    .dataframe tbody tr th {\n",
       "        vertical-align: top;\n",
       "    }\n",
       "\n",
       "    .dataframe thead th {\n",
       "        text-align: right;\n",
       "    }\n",
       "</style>\n",
       "<table border=\"1\" class=\"dataframe\">\n",
       "  <thead>\n",
       "    <tr style=\"text-align: right;\">\n",
       "      <th></th>\n",
       "      <th>BsmtQual</th>\n",
       "      <th>BsmtCond</th>\n",
       "      <th>BsmtExposure</th>\n",
       "      <th>BsmtFinType1</th>\n",
       "      <th>BsmtFinSF1</th>\n",
       "      <th>BsmtFinType2</th>\n",
       "      <th>BsmtFinSF2</th>\n",
       "      <th>BsmtUnfSF</th>\n",
       "      <th>TotalBsmtSF</th>\n",
       "      <th>BsmtFullBath</th>\n",
       "      <th>BsmtHalfBath</th>\n",
       "    </tr>\n",
       "  </thead>\n",
       "  <tbody>\n",
       "    <tr>\n",
       "      <th>27</th>\n",
       "      <td>Gd</td>\n",
       "      <td>TA</td>\n",
       "      <td>NaN</td>\n",
       "      <td>Unf</td>\n",
       "      <td>0.0</td>\n",
       "      <td>Unf</td>\n",
       "      <td>0.0</td>\n",
       "      <td>1595.0</td>\n",
       "      <td>1595.0</td>\n",
       "      <td>0.0</td>\n",
       "      <td>0.0</td>\n",
       "    </tr>\n",
       "    <tr>\n",
       "      <th>888</th>\n",
       "      <td>Gd</td>\n",
       "      <td>TA</td>\n",
       "      <td>NaN</td>\n",
       "      <td>Unf</td>\n",
       "      <td>0.0</td>\n",
       "      <td>Unf</td>\n",
       "      <td>0.0</td>\n",
       "      <td>725.0</td>\n",
       "      <td>725.0</td>\n",
       "      <td>0.0</td>\n",
       "      <td>0.0</td>\n",
       "    </tr>\n",
       "  </tbody>\n",
       "</table>\n",
       "</div>"
      ],
      "text/plain": [
       "    BsmtQual BsmtCond BsmtExposure BsmtFinType1  BsmtFinSF1 BsmtFinType2  \\\n",
       "27        Gd       TA          NaN          Unf         0.0          Unf   \n",
       "888       Gd       TA          NaN          Unf         0.0          Unf   \n",
       "\n",
       "     BsmtFinSF2  BsmtUnfSF  TotalBsmtSF  BsmtFullBath  BsmtHalfBath  \n",
       "27          0.0     1595.0       1595.0           0.0           0.0  \n",
       "888         0.0      725.0        725.0           0.0           0.0  "
      ]
     },
     "execution_count": 125,
     "metadata": {},
     "output_type": "execute_result"
    }
   ],
   "source": [
    "# Visualizando as linhas nulas\n",
    "df_teste.loc[df_teste.BsmtExposure.isnull(), col_porao_teste]"
   ]
  },
  {
   "cell_type": "code",
   "execution_count": 126,
   "id": "87d5c9bf-9d06-4e37-836b-024d91da0098",
   "metadata": {},
   "outputs": [
    {
     "data": {
      "text/plain": [
       "0    No\n",
       "Name: BsmtExposure, dtype: object"
      ]
     },
     "execution_count": 126,
     "metadata": {},
     "output_type": "execute_result"
    }
   ],
   "source": [
    "# Visualizando a moda dessa coluna\n",
    "df_teste.BsmtExposure.mode()"
   ]
  },
  {
   "cell_type": "code",
   "execution_count": 127,
   "id": "9f8dd802-c701-453a-bb9e-65f80f70fff1",
   "metadata": {},
   "outputs": [],
   "source": [
    "# Substituindo os valores nulos pela moda\n",
    "df_teste.loc[df_teste.BsmtExposure.isnull(), 'BsmtExposure'] = df_teste.BsmtExposure.mode()[0]"
   ]
  },
  {
   "cell_type": "code",
   "execution_count": 128,
   "id": "2b34d9af-9230-4874-a0da-8d8f029a9b71",
   "metadata": {},
   "outputs": [
    {
     "data": {
      "text/plain": [
       "MasVnrType     894\n",
       "MasVnrArea      15\n",
       "MSZoning         4\n",
       "Utilities        2\n",
       "Functional       2\n",
       "Exterior1st      1\n",
       "SaleType         1\n",
       "KitchenQual      1\n",
       "Exterior2nd      1\n",
       "LotShape         0\n",
       "dtype: int64"
      ]
     },
     "execution_count": 128,
     "metadata": {},
     "output_type": "execute_result"
    }
   ],
   "source": [
    "df_teste.isnull().sum().sort_values(ascending=False).head(10)"
   ]
  },
  {
   "cell_type": "markdown",
   "id": "8d6d0cd0-e224-4240-ae98-64f26342a1bd",
   "metadata": {},
   "source": [
    "- Voltando para a base de **<font color=red>Treino</font>**"
   ]
  },
  {
   "cell_type": "markdown",
   "id": "71bc9994",
   "metadata": {},
   "source": [
    "- **Voltando para os valores nulos**"
   ]
  },
  {
   "cell_type": "code",
   "execution_count": 131,
   "id": "39077c29-f790-4317-87a6-098b5c536de3",
   "metadata": {},
   "outputs": [
    {
     "data": {
      "text/plain": [
       "MasVnrType    872\n",
       "MasVnrArea      8\n",
       "Electrical      1\n",
       "MSSubClass      0\n",
       "LotArea         0\n",
       "dtype: int64"
      ]
     },
     "execution_count": 131,
     "metadata": {},
     "output_type": "execute_result"
    }
   ],
   "source": [
    "df_treino.isnull().sum().sort_values(ascending=False).head()"
   ]
  },
  {
   "cell_type": "code",
   "execution_count": 132,
   "id": "816d8fa7-3bf1-4032-974c-8e728845d13a",
   "metadata": {},
   "outputs": [
    {
     "data": {
      "text/plain": [
       "MasVnrType\n",
       "NaN        872\n",
       "BrkFace    445\n",
       "Stone      128\n",
       "BrkCmn      15\n",
       "Name: count, dtype: int64"
      ]
     },
     "execution_count": 132,
     "metadata": {},
     "output_type": "execute_result"
    }
   ],
   "source": [
    "df_treino.MasVnrType.value_counts(dropna=False)"
   ]
  },
  {
   "cell_type": "markdown",
   "id": "7b2a2a58",
   "metadata": {},
   "source": [
    "<a id=\"restante\"></a>\n",
    "- Sendo as colunas:\n",
    "    - **<font color='blue'>MasVnrType</font>**: Tipo de Cobertura de Alvenaria.\n",
    "    - Consutando o dicionário de dados, os valores vazios deveriam ter sido preenchidos como 'None', ou seja, não possui cobertura.\n",
    "    - Então, os valores nulos dessa coluna muito provavelmente é erro do sistema da própria empresa.\n",
    "        - **None: None**  \n",
    "    - **<font color='blue'>MasVnrArea</font>**: Área de cobertura de alvenaria em pés quadrados\n",
    "        - **None: None**\n",
    "    - **<font color='blue'>Electrical system</font>**: Sistema elétrico"
   ]
  },
  {
   "cell_type": "markdown",
   "id": "3edd2ea0-ea5c-4b9a-8940-ca5e6fcbd0ef",
   "metadata": {},
   "source": [
    "Se em **MasVnrType** existe uma categoria específica para dizer que não existe cobertura, o sistema(empresa) não deveria aceitar valores nulos, ou falta de preenchimento dessa informação. Eu poderia até sugerir para empresa o preenchimento obrigatório dessa informação, especificando quando não existe cobertura como 'None'."
   ]
  },
  {
   "cell_type": "code",
   "execution_count": 135,
   "id": "db009a64",
   "metadata": {},
   "outputs": [
    {
     "data": {
      "text/plain": [
       "MasVnrType  MasVnrArea\n",
       "NaN         0.0           859\n",
       "            NaN             8\n",
       "            1.0             2\n",
       "            288.0           1\n",
       "            312.0           1\n",
       "            344.0           1\n",
       "Name: count, dtype: int64"
      ]
     },
     "execution_count": 135,
     "metadata": {},
     "output_type": "execute_result"
    }
   ],
   "source": [
    "# Verificando os valores vazios nas duas primeiras colunas\n",
    "df_treino.loc[df_treino.MasVnrType.isnull(), ['MasVnrType', 'MasVnrArea']].value_counts(dropna=False)"
   ]
  },
  {
   "cell_type": "markdown",
   "id": "976de1cf-3bbe-4ded-9a6a-db1e94e5283d",
   "metadata": {},
   "source": [
    "Na maioria dos casos a onde o **MasVnrType** é nulo, o **MasVnrArea** é igual a 0. E nos casos onde o **MasVnrArea** é nulo, o **MasVnrType** também é nulo. Parece que nessa situação podemos considerar o **MasVnrArea** como igual a 0."
   ]
  },
  {
   "cell_type": "code",
   "execution_count": 137,
   "id": "3695e1c1-6d0a-4215-9edb-1437e2f6e610",
   "metadata": {},
   "outputs": [
    {
     "data": {
      "text/html": [
       "<div>\n",
       "<style scoped>\n",
       "    .dataframe tbody tr th:only-of-type {\n",
       "        vertical-align: middle;\n",
       "    }\n",
       "\n",
       "    .dataframe tbody tr th {\n",
       "        vertical-align: top;\n",
       "    }\n",
       "\n",
       "    .dataframe thead th {\n",
       "        text-align: right;\n",
       "    }\n",
       "</style>\n",
       "<table border=\"1\" class=\"dataframe\">\n",
       "  <thead>\n",
       "    <tr style=\"text-align: right;\">\n",
       "      <th></th>\n",
       "      <th>MasVnrType</th>\n",
       "      <th>MasVnrArea</th>\n",
       "    </tr>\n",
       "  </thead>\n",
       "  <tbody>\n",
       "    <tr>\n",
       "      <th>234</th>\n",
       "      <td>NaN</td>\n",
       "      <td>NaN</td>\n",
       "    </tr>\n",
       "    <tr>\n",
       "      <th>529</th>\n",
       "      <td>NaN</td>\n",
       "      <td>NaN</td>\n",
       "    </tr>\n",
       "    <tr>\n",
       "      <th>650</th>\n",
       "      <td>NaN</td>\n",
       "      <td>NaN</td>\n",
       "    </tr>\n",
       "    <tr>\n",
       "      <th>936</th>\n",
       "      <td>NaN</td>\n",
       "      <td>NaN</td>\n",
       "    </tr>\n",
       "    <tr>\n",
       "      <th>973</th>\n",
       "      <td>NaN</td>\n",
       "      <td>NaN</td>\n",
       "    </tr>\n",
       "    <tr>\n",
       "      <th>977</th>\n",
       "      <td>NaN</td>\n",
       "      <td>NaN</td>\n",
       "    </tr>\n",
       "    <tr>\n",
       "      <th>1243</th>\n",
       "      <td>NaN</td>\n",
       "      <td>NaN</td>\n",
       "    </tr>\n",
       "    <tr>\n",
       "      <th>1278</th>\n",
       "      <td>NaN</td>\n",
       "      <td>NaN</td>\n",
       "    </tr>\n",
       "  </tbody>\n",
       "</table>\n",
       "</div>"
      ],
      "text/plain": [
       "     MasVnrType  MasVnrArea\n",
       "234         NaN         NaN\n",
       "529         NaN         NaN\n",
       "650         NaN         NaN\n",
       "936         NaN         NaN\n",
       "973         NaN         NaN\n",
       "977         NaN         NaN\n",
       "1243        NaN         NaN\n",
       "1278        NaN         NaN"
      ]
     },
     "execution_count": 137,
     "metadata": {},
     "output_type": "execute_result"
    }
   ],
   "source": [
    "# Vendo os 8 casos em que os valores nulos estão presentes nas 2 colunas\n",
    "df_treino.loc[(df_treino.MasVnrType.isnull()) & (df_treino.MasVnrArea.isnull()), ['MasVnrType', 'MasVnrArea']]"
   ]
  },
  {
   "cell_type": "code",
   "execution_count": 138,
   "id": "95665f37-1bd6-458f-844d-61edf77b2bfc",
   "metadata": {},
   "outputs": [
    {
     "data": {
      "text/html": [
       "<div>\n",
       "<style scoped>\n",
       "    .dataframe tbody tr th:only-of-type {\n",
       "        vertical-align: middle;\n",
       "    }\n",
       "\n",
       "    .dataframe tbody tr th {\n",
       "        vertical-align: top;\n",
       "    }\n",
       "\n",
       "    .dataframe thead th {\n",
       "        text-align: right;\n",
       "    }\n",
       "</style>\n",
       "<table border=\"1\" class=\"dataframe\">\n",
       "  <thead>\n",
       "    <tr style=\"text-align: right;\">\n",
       "      <th></th>\n",
       "      <th>MasVnrType</th>\n",
       "      <th>MasVnrArea</th>\n",
       "    </tr>\n",
       "  </thead>\n",
       "  <tbody>\n",
       "    <tr>\n",
       "      <th>1</th>\n",
       "      <td>NaN</td>\n",
       "      <td>0.0</td>\n",
       "    </tr>\n",
       "    <tr>\n",
       "      <th>3</th>\n",
       "      <td>NaN</td>\n",
       "      <td>0.0</td>\n",
       "    </tr>\n",
       "    <tr>\n",
       "      <th>5</th>\n",
       "      <td>NaN</td>\n",
       "      <td>0.0</td>\n",
       "    </tr>\n",
       "    <tr>\n",
       "      <th>8</th>\n",
       "      <td>NaN</td>\n",
       "      <td>0.0</td>\n",
       "    </tr>\n",
       "    <tr>\n",
       "      <th>9</th>\n",
       "      <td>NaN</td>\n",
       "      <td>0.0</td>\n",
       "    </tr>\n",
       "    <tr>\n",
       "      <th>...</th>\n",
       "      <td>...</td>\n",
       "      <td>...</td>\n",
       "    </tr>\n",
       "    <tr>\n",
       "      <th>1454</th>\n",
       "      <td>NaN</td>\n",
       "      <td>0.0</td>\n",
       "    </tr>\n",
       "    <tr>\n",
       "      <th>1455</th>\n",
       "      <td>NaN</td>\n",
       "      <td>0.0</td>\n",
       "    </tr>\n",
       "    <tr>\n",
       "      <th>1457</th>\n",
       "      <td>NaN</td>\n",
       "      <td>0.0</td>\n",
       "    </tr>\n",
       "    <tr>\n",
       "      <th>1458</th>\n",
       "      <td>NaN</td>\n",
       "      <td>0.0</td>\n",
       "    </tr>\n",
       "    <tr>\n",
       "      <th>1459</th>\n",
       "      <td>NaN</td>\n",
       "      <td>0.0</td>\n",
       "    </tr>\n",
       "  </tbody>\n",
       "</table>\n",
       "<p>864 rows × 2 columns</p>\n",
       "</div>"
      ],
      "text/plain": [
       "     MasVnrType  MasVnrArea\n",
       "1           NaN         0.0\n",
       "3           NaN         0.0\n",
       "5           NaN         0.0\n",
       "8           NaN         0.0\n",
       "9           NaN         0.0\n",
       "...         ...         ...\n",
       "1454        NaN         0.0\n",
       "1455        NaN         0.0\n",
       "1457        NaN         0.0\n",
       "1458        NaN         0.0\n",
       "1459        NaN         0.0\n",
       "\n",
       "[864 rows x 2 columns]"
      ]
     },
     "execution_count": 138,
     "metadata": {},
     "output_type": "execute_result"
    }
   ],
   "source": [
    "# Mais uma vez vemos que quando MasVnrArea é igual a 0, é porque não existe qualquer tipo de cobertura\n",
    "df_treino.loc[(df_treino.MasVnrType.isnull()) & (df_treino.MasVnrArea.notnull()), ['MasVnrType', 'MasVnrArea']]"
   ]
  },
  {
   "cell_type": "markdown",
   "id": "948bf875-db99-4aa8-a386-07dc2e434b11",
   "metadata": {},
   "source": [
    "Faremos o seguinte, seguindo o dicionário de dados fornecido pela competição, quando não existe uma cobertura, o **MasVnrType** deveria ser igual a 'None'. Então substituiremos os valores nulos por 'None', e os valores nulos da coluna **MasVnrArea** por 0."
   ]
  },
  {
   "cell_type": "code",
   "execution_count": 140,
   "id": "451e1d1f",
   "metadata": {},
   "outputs": [],
   "source": [
    "# Substituindo os valores nulos da coluna MasVnrType \n",
    "df_treino.loc[df_treino['MasVnrType'].isnull(), 'MasVnrType'] = 'None'"
   ]
  },
  {
   "cell_type": "code",
   "execution_count": 141,
   "id": "162729ec",
   "metadata": {},
   "outputs": [
    {
     "data": {
      "text/plain": [
       "MasVnrArea\n",
       "0.0      859\n",
       "1.0        2\n",
       "288.0      1\n",
       "344.0      1\n",
       "312.0      1\n",
       "Name: count, dtype: int64"
      ]
     },
     "execution_count": 141,
     "metadata": {},
     "output_type": "execute_result"
    }
   ],
   "source": [
    "# E como, para MasVnrType igual a None temos que MasVnrArea é zero\n",
    "df_treino.loc[df_treino['MasVnrType'] == 'None', 'MasVnrArea'].value_counts()"
   ]
  },
  {
   "cell_type": "markdown",
   "id": "b5cbd7fb-c445-4714-9558-33a114627d55",
   "metadata": {},
   "source": [
    "Estranhamente alguns valores casos em que não existem cobertura possui algum valore se área. Nesse caso teriamos que nos aprofundar nessas linhas, porém não iremos fazer isso no momento."
   ]
  },
  {
   "cell_type": "code",
   "execution_count": 143,
   "id": "7a90a35e-b238-458f-bb93-bad5ffa08813",
   "metadata": {},
   "outputs": [],
   "source": [
    "# Substituindo os valores nulos da coluna MasVnrArea \n",
    "df_treino.loc[df_treino['MasVnrArea'].isnull(), 'MasVnrArea'] = 0"
   ]
  },
  {
   "cell_type": "markdown",
   "id": "2272477b",
   "metadata": {},
   "source": [
    "- **Avaliando a coluna de sistema elétrico**\n",
    "    - Essa coluna **não deveria aceitar um valor vazio**"
   ]
  },
  {
   "cell_type": "code",
   "execution_count": 145,
   "id": "0b2bc352",
   "metadata": {},
   "outputs": [
    {
     "data": {
      "text/plain": [
       "Electrical\n",
       "SBrkr    1334\n",
       "FuseA      94\n",
       "FuseF      27\n",
       "FuseP       3\n",
       "Mix         1\n",
       "Name: count, dtype: int64"
      ]
     },
     "execution_count": 145,
     "metadata": {},
     "output_type": "execute_result"
    }
   ],
   "source": [
    "# Visualizando os valores em sistema elétrico\n",
    "df_treino.Electrical.value_counts()"
   ]
  },
  {
   "cell_type": "markdown",
   "id": "643b72eb",
   "metadata": {},
   "source": [
    "- Uma opção seria pedir essa informação faltante, mas como não podemos fazer isso o que iremos fazer é ou considerar que ele será igual a maioria ou criar um novo rótulo como \"não informado\""
   ]
  },
  {
   "cell_type": "code",
   "execution_count": 147,
   "id": "1bc420d3",
   "metadata": {},
   "outputs": [],
   "source": [
    "# Considerando esse valor como SBrkr\n",
    "df_treino.loc[df_treino.Electrical.isnull(), 'Electrical'] = df_treino.Electrical.mode()[0]"
   ]
  },
  {
   "cell_type": "code",
   "execution_count": 148,
   "id": "e7bf67d5",
   "metadata": {},
   "outputs": [
    {
     "data": {
      "text/plain": [
       "Id             0\n",
       "MSSubClass     0\n",
       "MSZoning       0\n",
       "LotFrontage    0\n",
       "LotArea        0\n",
       "dtype: int64"
      ]
     },
     "execution_count": 148,
     "metadata": {},
     "output_type": "execute_result"
    }
   ],
   "source": [
    "# Verificando valores vazios\n",
    "df_treino.isnull().sum().sort_values(ascending=False).head()"
   ]
  },
  {
   "cell_type": "markdown",
   "id": "e7839e68",
   "metadata": {},
   "source": [
    "- Observe que **a base de treino já foi totalmente tratada**"
   ]
  },
  {
   "cell_type": "markdown",
   "id": "2b30f723",
   "metadata": {},
   "source": [
    "- Para a **<font color='blue'>base de teste</font>**"
   ]
  },
  {
   "cell_type": "code",
   "execution_count": 151,
   "id": "740c676b-bf36-486f-91e6-520833eeaca8",
   "metadata": {},
   "outputs": [
    {
     "data": {
      "text/plain": [
       "MasVnrType    894\n",
       "MasVnrArea     15\n",
       "MSZoning        4\n",
       "Utilities       2\n",
       "Functional      2\n",
       "dtype: int64"
      ]
     },
     "execution_count": 151,
     "metadata": {},
     "output_type": "execute_result"
    }
   ],
   "source": [
    "# Verificando os valores vazios\n",
    "df_teste.isnull().sum().sort_values(ascending=False).head()"
   ]
  },
  {
   "cell_type": "code",
   "execution_count": 152,
   "id": "8c5c9f68-0043-43b2-9a60-5f402cb47547",
   "metadata": {},
   "outputs": [
    {
     "data": {
      "text/html": [
       "<div>\n",
       "<style scoped>\n",
       "    .dataframe tbody tr th:only-of-type {\n",
       "        vertical-align: middle;\n",
       "    }\n",
       "\n",
       "    .dataframe tbody tr th {\n",
       "        vertical-align: top;\n",
       "    }\n",
       "\n",
       "    .dataframe thead th {\n",
       "        text-align: right;\n",
       "    }\n",
       "</style>\n",
       "<table border=\"1\" class=\"dataframe\">\n",
       "  <thead>\n",
       "    <tr style=\"text-align: right;\">\n",
       "      <th></th>\n",
       "      <th>MasVnrType</th>\n",
       "      <th>MasVnrArea</th>\n",
       "    </tr>\n",
       "  </thead>\n",
       "  <tbody>\n",
       "    <tr>\n",
       "      <th>231</th>\n",
       "      <td>NaN</td>\n",
       "      <td>NaN</td>\n",
       "    </tr>\n",
       "    <tr>\n",
       "      <th>246</th>\n",
       "      <td>NaN</td>\n",
       "      <td>NaN</td>\n",
       "    </tr>\n",
       "    <tr>\n",
       "      <th>422</th>\n",
       "      <td>NaN</td>\n",
       "      <td>NaN</td>\n",
       "    </tr>\n",
       "    <tr>\n",
       "      <th>532</th>\n",
       "      <td>NaN</td>\n",
       "      <td>NaN</td>\n",
       "    </tr>\n",
       "    <tr>\n",
       "      <th>544</th>\n",
       "      <td>NaN</td>\n",
       "      <td>NaN</td>\n",
       "    </tr>\n",
       "    <tr>\n",
       "      <th>581</th>\n",
       "      <td>NaN</td>\n",
       "      <td>NaN</td>\n",
       "    </tr>\n",
       "    <tr>\n",
       "      <th>851</th>\n",
       "      <td>NaN</td>\n",
       "      <td>NaN</td>\n",
       "    </tr>\n",
       "    <tr>\n",
       "      <th>865</th>\n",
       "      <td>NaN</td>\n",
       "      <td>NaN</td>\n",
       "    </tr>\n",
       "    <tr>\n",
       "      <th>880</th>\n",
       "      <td>NaN</td>\n",
       "      <td>NaN</td>\n",
       "    </tr>\n",
       "    <tr>\n",
       "      <th>889</th>\n",
       "      <td>NaN</td>\n",
       "      <td>NaN</td>\n",
       "    </tr>\n",
       "    <tr>\n",
       "      <th>908</th>\n",
       "      <td>NaN</td>\n",
       "      <td>NaN</td>\n",
       "    </tr>\n",
       "    <tr>\n",
       "      <th>1132</th>\n",
       "      <td>NaN</td>\n",
       "      <td>NaN</td>\n",
       "    </tr>\n",
       "    <tr>\n",
       "      <th>1197</th>\n",
       "      <td>NaN</td>\n",
       "      <td>NaN</td>\n",
       "    </tr>\n",
       "    <tr>\n",
       "      <th>1226</th>\n",
       "      <td>NaN</td>\n",
       "      <td>NaN</td>\n",
       "    </tr>\n",
       "    <tr>\n",
       "      <th>1402</th>\n",
       "      <td>NaN</td>\n",
       "      <td>NaN</td>\n",
       "    </tr>\n",
       "  </tbody>\n",
       "</table>\n",
       "</div>"
      ],
      "text/plain": [
       "     MasVnrType  MasVnrArea\n",
       "231         NaN         NaN\n",
       "246         NaN         NaN\n",
       "422         NaN         NaN\n",
       "532         NaN         NaN\n",
       "544         NaN         NaN\n",
       "581         NaN         NaN\n",
       "851         NaN         NaN\n",
       "865         NaN         NaN\n",
       "880         NaN         NaN\n",
       "889         NaN         NaN\n",
       "908         NaN         NaN\n",
       "1132        NaN         NaN\n",
       "1197        NaN         NaN\n",
       "1226        NaN         NaN\n",
       "1402        NaN         NaN"
      ]
     },
     "execution_count": 152,
     "metadata": {},
     "output_type": "execute_result"
    }
   ],
   "source": [
    "# Vendo os 15 casos em que os valores nulos estão presentes nas 2 colunas para base de teste\n",
    "df_teste.loc[(df_teste.MasVnrType.isnull()) & (df_teste.MasVnrArea.isnull()), ['MasVnrType', 'MasVnrArea']]"
   ]
  },
  {
   "cell_type": "code",
   "execution_count": 153,
   "id": "382ac240-6d7b-441d-8ab5-7f054399cfca",
   "metadata": {},
   "outputs": [
    {
     "data": {
      "text/html": [
       "<div>\n",
       "<style scoped>\n",
       "    .dataframe tbody tr th:only-of-type {\n",
       "        vertical-align: middle;\n",
       "    }\n",
       "\n",
       "    .dataframe tbody tr th {\n",
       "        vertical-align: top;\n",
       "    }\n",
       "\n",
       "    .dataframe thead th {\n",
       "        text-align: right;\n",
       "    }\n",
       "</style>\n",
       "<table border=\"1\" class=\"dataframe\">\n",
       "  <thead>\n",
       "    <tr style=\"text-align: right;\">\n",
       "      <th></th>\n",
       "      <th>MasVnrType</th>\n",
       "      <th>MasVnrArea</th>\n",
       "    </tr>\n",
       "  </thead>\n",
       "  <tbody>\n",
       "    <tr>\n",
       "      <th>0</th>\n",
       "      <td>NaN</td>\n",
       "      <td>0.0</td>\n",
       "    </tr>\n",
       "    <tr>\n",
       "      <th>2</th>\n",
       "      <td>NaN</td>\n",
       "      <td>0.0</td>\n",
       "    </tr>\n",
       "    <tr>\n",
       "      <th>4</th>\n",
       "      <td>NaN</td>\n",
       "      <td>0.0</td>\n",
       "    </tr>\n",
       "    <tr>\n",
       "      <th>5</th>\n",
       "      <td>NaN</td>\n",
       "      <td>0.0</td>\n",
       "    </tr>\n",
       "    <tr>\n",
       "      <th>6</th>\n",
       "      <td>NaN</td>\n",
       "      <td>0.0</td>\n",
       "    </tr>\n",
       "    <tr>\n",
       "      <th>...</th>\n",
       "      <td>...</td>\n",
       "      <td>...</td>\n",
       "    </tr>\n",
       "    <tr>\n",
       "      <th>1453</th>\n",
       "      <td>NaN</td>\n",
       "      <td>0.0</td>\n",
       "    </tr>\n",
       "    <tr>\n",
       "      <th>1454</th>\n",
       "      <td>NaN</td>\n",
       "      <td>0.0</td>\n",
       "    </tr>\n",
       "    <tr>\n",
       "      <th>1455</th>\n",
       "      <td>NaN</td>\n",
       "      <td>0.0</td>\n",
       "    </tr>\n",
       "    <tr>\n",
       "      <th>1456</th>\n",
       "      <td>NaN</td>\n",
       "      <td>0.0</td>\n",
       "    </tr>\n",
       "    <tr>\n",
       "      <th>1457</th>\n",
       "      <td>NaN</td>\n",
       "      <td>0.0</td>\n",
       "    </tr>\n",
       "  </tbody>\n",
       "</table>\n",
       "<p>879 rows × 2 columns</p>\n",
       "</div>"
      ],
      "text/plain": [
       "     MasVnrType  MasVnrArea\n",
       "0           NaN         0.0\n",
       "2           NaN         0.0\n",
       "4           NaN         0.0\n",
       "5           NaN         0.0\n",
       "6           NaN         0.0\n",
       "...         ...         ...\n",
       "1453        NaN         0.0\n",
       "1454        NaN         0.0\n",
       "1455        NaN         0.0\n",
       "1456        NaN         0.0\n",
       "1457        NaN         0.0\n",
       "\n",
       "[879 rows x 2 columns]"
      ]
     },
     "execution_count": 153,
     "metadata": {},
     "output_type": "execute_result"
    }
   ],
   "source": [
    "# Mais uma vez vemos que quando MasVnrArea é igual a 0, é porque não existe qualquer tipo de cobertura\n",
    "df_teste.loc[(df_teste.MasVnrType.isnull()) & (df_teste.MasVnrArea.notnull()), ['MasVnrType', 'MasVnrArea']]"
   ]
  },
  {
   "cell_type": "code",
   "execution_count": 154,
   "id": "3f86009f-ccd2-499e-be9e-43e2b988b4b8",
   "metadata": {},
   "outputs": [],
   "source": [
    "# Substituindo os valores nulos da coluna MasVnrType \n",
    "df_teste.loc[df_teste['MasVnrType'].isnull(), 'MasVnrType'] = 'None'"
   ]
  },
  {
   "cell_type": "code",
   "execution_count": 155,
   "id": "5b1a9f6f-9a7a-44d7-9d21-9ed2fb5f5a4b",
   "metadata": {},
   "outputs": [],
   "source": [
    "# Substituindo os valores nulos da coluna MasVnrArea \n",
    "df_teste.loc[df_teste['MasVnrArea'].isnull(), 'MasVnrArea'] = 0"
   ]
  },
  {
   "cell_type": "code",
   "execution_count": 156,
   "id": "b35f604c",
   "metadata": {},
   "outputs": [
    {
     "data": {
      "text/plain": [
       "MSZoning       4\n",
       "Utilities      2\n",
       "Functional     2\n",
       "Exterior1st    1\n",
       "Exterior2nd    1\n",
       "dtype: int64"
      ]
     },
     "execution_count": 156,
     "metadata": {},
     "output_type": "execute_result"
    }
   ],
   "source": [
    "# Confirmando o tratamento\n",
    "df_teste.isnull().sum().sort_values(ascending=False).head()"
   ]
  },
  {
   "cell_type": "markdown",
   "id": "fc233397",
   "metadata": {},
   "source": [
    "<a id='restante_teste'></a>\n",
    "- **Analisando o restante da base de teste**\n",
    "- **Entendendo essas colunas**\n",
    "    - **<font color='blue'>MSZoning</font>**: Região onde fica a casa\n",
    "        - NA: A informação não foi adicionada na base (ausência de informação)\n",
    "    - **<font color='blue'>Functional</font>**: Funcionalidades da casa\n",
    "        - NA: A informação não foi adicionada na base (ausência de informação)\n",
    "    - **<font color='blue'>Utilities</font>**: Utilidades disponíveis\n",
    "        - NA: A informação não foi adicionada na base (ausência de informação)\n",
    "    - ..."
   ]
  },
  {
   "cell_type": "code",
   "execution_count": 158,
   "id": "89c7bfe6",
   "metadata": {},
   "outputs": [
    {
     "data": {
      "text/plain": [
       "MSZoning\n",
       "RL         1114\n",
       "RM          242\n",
       "FV           74\n",
       "C (all)      15\n",
       "RH           10\n",
       "NaN           4\n",
       "Name: count, dtype: int64"
      ]
     },
     "execution_count": 158,
     "metadata": {},
     "output_type": "execute_result"
    }
   ],
   "source": [
    "# Verificando os valores em MSZoning\n",
    "df_teste.MSZoning.value_counts(dropna=False)"
   ]
  },
  {
   "cell_type": "code",
   "execution_count": 288,
   "id": "37b49338-4bc2-4df3-b9e9-956f3584ac94",
   "metadata": {},
   "outputs": [
    {
     "data": {
      "text/plain": [
       "Id               0\n",
       "MSSubClass       0\n",
       "MSZoning         0\n",
       "LotFrontage      0\n",
       "LotArea          0\n",
       "                ..\n",
       "MoSold           0\n",
       "YrSold           0\n",
       "SaleType         0\n",
       "SaleCondition    0\n",
       "SalePrice        0\n",
       "Length: 81, dtype: int64"
      ]
     },
     "execution_count": 288,
     "metadata": {},
     "output_type": "execute_result"
    }
   ],
   "source": [
    "df_treino.isnull().sum().sort_values(ascending=False)"
   ]
  },
  {
   "cell_type": "code",
   "execution_count": 159,
   "id": "498ed470-8136-44f9-9a25-58f7dd5c69af",
   "metadata": {},
   "outputs": [],
   "source": [
    "# Utilizando a moda para substituir os valores\n",
    "df_teste.loc[df_teste.MSZoning.isnull(), 'MSZoning'] = df_teste.MSZoning.mode()[0]"
   ]
  },
  {
   "cell_type": "code",
   "execution_count": 160,
   "id": "e3076eba",
   "metadata": {},
   "outputs": [
    {
     "data": {
      "text/plain": [
       "Utilities\n",
       "AllPub    1457\n",
       "NaN          2\n",
       "Name: count, dtype: int64"
      ]
     },
     "execution_count": 160,
     "metadata": {},
     "output_type": "execute_result"
    }
   ],
   "source": [
    "# Verificando os valores em Utilities\n",
    "df_teste.Utilities.value_counts(dropna=False)"
   ]
  },
  {
   "cell_type": "code",
   "execution_count": 161,
   "id": "de3c7f94",
   "metadata": {},
   "outputs": [],
   "source": [
    "# E usando a moda para substituir os valores\n",
    "df_teste.loc[df_teste.Utilities.isnull(), 'Utilities'] = df_teste.Utilities.mode()[0]"
   ]
  },
  {
   "cell_type": "code",
   "execution_count": 162,
   "id": "efe3ed1f",
   "metadata": {},
   "outputs": [
    {
     "data": {
      "text/plain": [
       "Functional\n",
       "Typ     1357\n",
       "Min2      36\n",
       "Min1      34\n",
       "Mod       20\n",
       "Maj1       5\n",
       "Maj2       4\n",
       "NaN        2\n",
       "Sev        1\n",
       "Name: count, dtype: int64"
      ]
     },
     "execution_count": 162,
     "metadata": {},
     "output_type": "execute_result"
    }
   ],
   "source": [
    "# Verificando os valores em Functional\n",
    "df_teste.Functional.value_counts(dropna=False)"
   ]
  },
  {
   "cell_type": "code",
   "execution_count": 163,
   "id": "5295d388",
   "metadata": {},
   "outputs": [],
   "source": [
    "# Novamente utilizando a moda\n",
    "df_teste.loc[df_teste.Functional.isnull(), 'Functional'] = df_teste.Functional.mode()[0]"
   ]
  },
  {
   "cell_type": "code",
   "execution_count": 164,
   "id": "17793c3b",
   "metadata": {},
   "outputs": [
    {
     "data": {
      "text/plain": [
       "KitchenQual    1\n",
       "SaleType       1\n",
       "Exterior2nd    1\n",
       "Exterior1st    1\n",
       "Id             0\n",
       "dtype: int64"
      ]
     },
     "execution_count": 164,
     "metadata": {},
     "output_type": "execute_result"
    }
   ],
   "source": [
    "# Visualizando as ultimas colunas\n",
    "df_teste.isnull().sum().sort_values(ascending=False).head()"
   ]
  },
  {
   "cell_type": "code",
   "execution_count": 165,
   "id": "0ff9c442",
   "metadata": {},
   "outputs": [
    {
     "name": "stdout",
     "output_type": "stream",
     "text": [
      "0    TA\n",
      "Name: KitchenQual, dtype: object\n",
      "0    WD\n",
      "Name: SaleType, dtype: object\n",
      "0    VinylSd\n",
      "Name: Exterior2nd, dtype: object\n",
      "0    VinylSd\n",
      "Name: Exterior1st, dtype: object\n"
     ]
    }
   ],
   "source": [
    "# Visualizando a moda\n",
    "print(df_teste.KitchenQual.mode())    \n",
    "print(df_teste.SaleType.mode())       \n",
    "print(df_teste.Exterior2nd.mode())    \n",
    "print(df_teste.Exterior1st.mode())   "
   ]
  },
  {
   "cell_type": "code",
   "execution_count": 166,
   "id": "bb4239b7",
   "metadata": {},
   "outputs": [],
   "source": [
    "# Substituindo os valores\n",
    "df_teste.loc[df_teste.KitchenQual.isnull(), 'KitchenQual'] = df_teste.KitchenQual.mode()[0]\n",
    "df_teste.loc[df_teste.SaleType.isnull(), 'SaleType'] = df_teste.SaleType.mode()[0]\n",
    "df_teste.loc[df_teste.Exterior2nd.isnull(), 'Exterior2nd'] = df_teste.Exterior2nd.mode()[0]\n",
    "df_teste.loc[df_teste.Exterior1st.isnull(), 'Exterior1st'] = df_teste.Exterior1st.mode()[0]"
   ]
  },
  {
   "cell_type": "markdown",
   "id": "26491179",
   "metadata": {},
   "source": [
    "- **Para finalizar, vamos exportar essas duas bases**"
   ]
  },
  {
   "cell_type": "code",
   "execution_count": 168,
   "id": "1d3df8f8",
   "metadata": {},
   "outputs": [],
   "source": [
    "# Exportando a base de treino e teste\n",
    "df_treino.to_csv(\"../dados/train_2.csv\", index=False)\n",
    "df_teste.to_csv(\"../dados/test_2.csv\", index=False)"
   ]
  }
 ],
 "metadata": {
  "kernelspec": {
   "display_name": "regressao_linear",
   "language": "python",
   "name": "regressao_linear"
  },
  "language_info": {
   "codemirror_mode": {
    "name": "ipython",
    "version": 3
   },
   "file_extension": ".py",
   "mimetype": "text/x-python",
   "name": "python",
   "nbconvert_exporter": "python",
   "pygments_lexer": "ipython3",
   "version": "3.12.8"
  }
 },
 "nbformat": 4,
 "nbformat_minor": 5
}
